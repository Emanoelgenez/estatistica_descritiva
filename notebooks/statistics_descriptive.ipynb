{
 "cells": [
  {
   "cell_type": "markdown",
   "id": "398a1fa2",
   "metadata": {},
   "source": [
    "# 0.0. IMPORTS"
   ]
  },
  {
   "cell_type": "code",
   "execution_count": 470,
   "id": "556fc65b",
   "metadata": {
    "ExecuteTime": {
     "end_time": "2022-05-20T16:28:51.104483Z",
     "start_time": "2022-05-20T16:28:51.089495Z"
    }
   },
   "outputs": [],
   "source": [
    "import pandas as pd\n",
    "import numpy as np\n",
    "import math \n",
    "import matplotlib.pyplot as plt\n",
    "import seaborn as sns\n",
    "import scipy\n",
    "import random\n",
    "\n",
    "from  math import sqrt, cos, log10\n",
    "from bokeh.sampledata.iris import flowers as dados"
   ]
  },
  {
   "cell_type": "markdown",
   "id": "1e899e1b",
   "metadata": {},
   "source": [
    "# 1.0. OBTENÇÃO DE AMOSTRAS"
   ]
  },
  {
   "cell_type": "code",
   "execution_count": 262,
   "id": "641f8192",
   "metadata": {
    "ExecuteTime": {
     "end_time": "2022-05-20T15:17:33.530906Z",
     "start_time": "2022-05-20T15:17:33.362012Z"
    }
   },
   "outputs": [],
   "source": [
    "random.seed(77)"
   ]
  },
  {
   "cell_type": "code",
   "execution_count": 263,
   "id": "e646bc5f",
   "metadata": {
    "ExecuteTime": {
     "end_time": "2022-05-20T15:17:33.609892Z",
     "start_time": "2022-05-20T15:17:33.533907Z"
    }
   },
   "outputs": [],
   "source": [
    "X = []\n",
    "for i in range(100):\n",
    "    X.append(random.random())"
   ]
  },
  {
   "cell_type": "code",
   "execution_count": 264,
   "id": "06320ed0",
   "metadata": {
    "ExecuteTime": {
     "end_time": "2022-05-20T15:17:33.797983Z",
     "start_time": "2022-05-20T15:17:33.613892Z"
    }
   },
   "outputs": [
    {
     "data": {
      "text/plain": [
       "100"
      ]
     },
     "execution_count": 264,
     "metadata": {},
     "output_type": "execute_result"
    }
   ],
   "source": [
    "len(X)"
   ]
  },
  {
   "cell_type": "code",
   "execution_count": 265,
   "id": "ee1cc13b",
   "metadata": {
    "ExecuteTime": {
     "end_time": "2022-05-20T15:17:33.877067Z",
     "start_time": "2022-05-20T15:17:33.800966Z"
    }
   },
   "outputs": [
    {
     "data": {
      "text/plain": [
       "[0.799115369116727,\n",
       " 0.3259061440625364,\n",
       " 0.24049351508267347,\n",
       " 0.8225558693681814,\n",
       " 0.11506253698710345,\n",
       " 0.47623677516761054,\n",
       " 0.5578947290755706,\n",
       " 0.6113330665067622,\n",
       " 0.14547146525897703,\n",
       " 0.6306505848550839,\n",
       " 0.5006197765650313,\n",
       " 0.8511188349123333,\n",
       " 0.028351246084461268,\n",
       " 0.9571759290780877,\n",
       " 0.1726798474225294,\n",
       " 0.8133552610220813,\n",
       " 0.5073148980567306,\n",
       " 0.8356936602931708,\n",
       " 0.1828740263841231,\n",
       " 0.3214822718300542,\n",
       " 0.08718235456189227,\n",
       " 0.7787191738214644,\n",
       " 0.5339682658736723,\n",
       " 0.20497627724407863,\n",
       " 0.19168793463619915,\n",
       " 0.08094897006000101,\n",
       " 0.20013196540795586,\n",
       " 0.5601041831161951,\n",
       " 0.4376409768709594,\n",
       " 0.7042609642352532,\n",
       " 0.07629881128552962,\n",
       " 0.8394868657097555,\n",
       " 0.982084301914239,\n",
       " 0.7396986127796542,\n",
       " 0.7431335995262573,\n",
       " 0.8497443056685156,\n",
       " 0.0949241263932682,\n",
       " 0.46123843511463514,\n",
       " 0.07933112916991791,\n",
       " 0.7815682648434296,\n",
       " 0.5379738060626819,\n",
       " 0.10647656971159392,\n",
       " 0.4447582783331656,\n",
       " 0.7768417814353804,\n",
       " 0.5520540101467354,\n",
       " 0.1214800354198623,\n",
       " 0.9368528241643513,\n",
       " 0.05639373383065638,\n",
       " 0.8431055975837366,\n",
       " 0.974019433588326,\n",
       " 0.7510581879505287,\n",
       " 0.9458668873130683,\n",
       " 0.5309684295043741,\n",
       " 0.2191591976036381,\n",
       " 0.47228887977185796,\n",
       " 0.7381494800622979,\n",
       " 0.7685107946683193,\n",
       " 0.3843279854416285,\n",
       " 0.9472422300639076,\n",
       " 0.03509698102051417,\n",
       " 0.4958123239313884,\n",
       " 0.03945724476752266,\n",
       " 0.35805169314263297,\n",
       " 0.9893004851997331,\n",
       " 0.11789769125014105,\n",
       " 0.9856271632314807,\n",
       " 0.9051184100122714,\n",
       " 0.6882735452717139,\n",
       " 0.05595610030481124,\n",
       " 0.4715169431462619,\n",
       " 0.6919553403147952,\n",
       " 0.09519153943218128,\n",
       " 0.2982350627420489,\n",
       " 0.09182496381677496,\n",
       " 0.8435058331900915,\n",
       " 0.9152597364257982,\n",
       " 0.9236631901211892,\n",
       " 0.7507602081856001,\n",
       " 0.5755833759956874,\n",
       " 0.06219824995186363,\n",
       " 0.48142327477362035,\n",
       " 0.7606285574189204,\n",
       " 0.7559730477993379,\n",
       " 0.026727152623234107,\n",
       " 0.008207933902039222,\n",
       " 0.08816663672445091,\n",
       " 0.924340810375399,\n",
       " 0.11345562237543294,\n",
       " 0.39025861005827334,\n",
       " 0.4759011648827176,\n",
       " 0.8837580744565566,\n",
       " 0.13562477558387565,\n",
       " 0.2615277633810975,\n",
       " 0.7719283687891144,\n",
       " 0.08595907808485559,\n",
       " 0.16424874327448946,\n",
       " 0.025094479698843153,\n",
       " 0.958254306519411,\n",
       " 0.23334754757894904,\n",
       " 0.5015116465808369]"
      ]
     },
     "execution_count": 265,
     "metadata": {},
     "output_type": "execute_result"
    }
   ],
   "source": [
    "X"
   ]
  },
  {
   "cell_type": "code",
   "execution_count": 266,
   "id": "55bb2613",
   "metadata": {
    "ExecuteTime": {
     "end_time": "2022-05-20T15:17:33.988237Z",
     "start_time": "2022-05-20T15:17:33.880067Z"
    }
   },
   "outputs": [
    {
     "data": {
      "text/plain": [
       "['Lucas', 'Marcos', 'Thiago', 'Roberto', 'Bianca', 'Erika']"
      ]
     },
     "execution_count": 266,
     "metadata": {},
     "output_type": "execute_result"
    }
   ],
   "source": [
    "nomes = ['Lucas', 'Marcos', 'Thiago', 'Roberto', 'Bianca', 'Erika']\n",
    "\n",
    "nomes"
   ]
  },
  {
   "cell_type": "code",
   "execution_count": 267,
   "id": "d87ad6af",
   "metadata": {
    "ExecuteTime": {
     "end_time": "2022-05-20T15:17:34.128623Z",
     "start_time": "2022-05-20T15:17:33.993233Z"
    }
   },
   "outputs": [
    {
     "data": {
      "text/plain": [
       "'Roberto'"
      ]
     },
     "execution_count": 267,
     "metadata": {},
     "output_type": "execute_result"
    }
   ],
   "source": [
    "random.choice(nomes)"
   ]
  },
  {
   "cell_type": "code",
   "execution_count": 268,
   "id": "b9322bec",
   "metadata": {
    "ExecuteTime": {
     "end_time": "2022-05-20T15:17:34.224371Z",
     "start_time": "2022-05-20T15:17:34.131622Z"
    }
   },
   "outputs": [
    {
     "data": {
      "text/plain": [
       "['Bianca', 'Erika', 'Roberto']"
      ]
     },
     "execution_count": 268,
     "metadata": {},
     "output_type": "execute_result"
    }
   ],
   "source": [
    "random.sample(nomes, 3)"
   ]
  },
  {
   "cell_type": "markdown",
   "id": "f82d7520",
   "metadata": {},
   "source": [
    "# 2.0. GRÁFICOS"
   ]
  },
  {
   "cell_type": "markdown",
   "id": "6e5bdc75",
   "metadata": {},
   "source": [
    "## 2.1. Gráfico de barras horizontais"
   ]
  },
  {
   "cell_type": "code",
   "execution_count": 474,
   "id": "337850b4",
   "metadata": {
    "ExecuteTime": {
     "end_time": "2022-05-20T16:31:37.176102Z",
     "start_time": "2022-05-20T16:31:37.157111Z"
    }
   },
   "outputs": [],
   "source": [
    "y = [ 2, 5, 2, 7, 5, 1 ]\n",
    "\n",
    "\n",
    "x = [ 'N1', 'N2', 'N3', 'N4', 'N5', 'N6' ]\n",
    "\n",
    "x2 = [ 'variável um', 'variável dois', 'variável três', \n",
    "      'variável quatro', 'variável cinco', 'variável seis' ] "
   ]
  },
  {
   "cell_type": "code",
   "execution_count": 475,
   "id": "6b3237c5",
   "metadata": {
    "ExecuteTime": {
     "end_time": "2022-05-20T16:31:37.709354Z",
     "start_time": "2022-05-20T16:31:37.378689Z"
    },
    "scrolled": true
   },
   "outputs": [
    {
     "data": {
      "image/png": "[encoded data removed]",
      "text/plain": [
       "<Figure size 432x288 with 1 Axes>"
      ]
     },
     "metadata": {},
     "output_type": "display_data"
    }
   ],
   "source": [
    "plt.barh(x2, y, color = 'lightseagreen');\n",
    "plt.xlabel('variável eixo X', size = 15);\n",
    "plt.ylabel('variável eixo Y', size = 15);\n",
    "plt.title('Título do meu gráfico');"
   ]
  },
  {
   "cell_type": "markdown",
   "id": "4cd1fb66",
   "metadata": {},
   "source": [
    "## 2.2. Gráfico de barras verticais"
   ]
  },
  {
   "cell_type": "code",
   "execution_count": 476,
   "id": "713b3956",
   "metadata": {
    "ExecuteTime": {
     "end_time": "2022-05-20T16:31:48.313647Z",
     "start_time": "2022-05-20T16:31:48.086937Z"
    }
   },
   "outputs": [
    {
     "data": {
      "image/png": "[encoded data removed]",
      "text/plain": [
       "<Figure size 432x288 with 1 Axes>"
      ]
     },
     "metadata": {},
     "output_type": "display_data"
    }
   ],
   "source": [
    "plt.bar(x, y, color = 'mediumseagreen');"
   ]
  },
  {
   "cell_type": "markdown",
   "id": "a1efb62c",
   "metadata": {},
   "source": [
    "## 2.3. Gráfico de pizza"
   ]
  },
  {
   "cell_type": "code",
   "execution_count": 272,
   "id": "e112e686",
   "metadata": {
    "ExecuteTime": {
     "end_time": "2022-05-20T15:17:35.277024Z",
     "start_time": "2022-05-20T15:17:35.264712Z"
    }
   },
   "outputs": [],
   "source": [
    "y = [ 2, 5, 2, 7, 5, 1 ]\n",
    "\n",
    "\n",
    "x = [ 'N1', 'N2', 'N3', 'N4', 'N5', 'N6' ]\n",
    "\n",
    "x2 = [ 'variável um', 'variável dois', 'variável três', \n",
    "      'variável quatro', 'variável cinco', 'variável seis' ]"
   ]
  },
  {
   "cell_type": "code",
   "execution_count": 273,
   "id": "2ce8eb1e",
   "metadata": {
    "ExecuteTime": {
     "end_time": "2022-05-20T15:17:35.532839Z",
     "start_time": "2022-05-20T15:17:35.282029Z"
    }
   },
   "outputs": [
    {
     "data": {
      "image/png": "[encoded data removed]",
      "text/plain": [
       "<Figure size 432x288 with 1 Axes>"
      ]
     },
     "metadata": {},
     "output_type": "display_data"
    }
   ],
   "source": [
    "plt.pie(y, labels = x, radius = 2);"
   ]
  },
  {
   "cell_type": "markdown",
   "id": "bb84ad26",
   "metadata": {},
   "source": [
    "## 2.4. Gráfico de linhas"
   ]
  },
  {
   "cell_type": "code",
   "execution_count": 274,
   "id": "cae4abaf",
   "metadata": {
    "ExecuteTime": {
     "end_time": "2022-05-20T15:17:35.564819Z",
     "start_time": "2022-05-20T15:17:35.543832Z"
    }
   },
   "outputs": [],
   "source": [
    "y = [ 6, 8, 3, 1, 9 ]\n",
    "\n",
    "x1 = [ 1, 2, 3, 4, 5 ]\n",
    "\n",
    "x = [ 'seg', 'ter', 'qua', 'qui', 'sex' ]"
   ]
  },
  {
   "cell_type": "code",
   "execution_count": 275,
   "id": "0aaaf8f7",
   "metadata": {
    "ExecuteTime": {
     "end_time": "2022-05-20T15:17:35.946498Z",
     "start_time": "2022-05-20T15:17:35.568818Z"
    }
   },
   "outputs": [
    {
     "data": {
      "image/png": "[encoded data removed]",
      "text/plain": [
       "<Figure size 432x288 with 1 Axes>"
      ]
     },
     "metadata": {},
     "output_type": "display_data"
    }
   ],
   "source": [
    "plt.plot( x1, y, 'o-g');\n",
    "plt.xlabel('eixo X', size = 15);\n",
    "plt.ylabel('eixo Y', size = 15);\n",
    "plt.title('Título do meu gráfico');"
   ]
  },
  {
   "cell_type": "code",
   "execution_count": 276,
   "id": "04b8df04",
   "metadata": {
    "ExecuteTime": {
     "end_time": "2022-05-20T15:17:36.185758Z",
     "start_time": "2022-05-20T15:17:35.949497Z"
    }
   },
   "outputs": [
    {
     "data": {
      "image/png": "[encoded data removed]",
      "text/plain": [
       "<Figure size 432x288 with 1 Axes>"
      ]
     },
     "metadata": {},
     "output_type": "display_data"
    }
   ],
   "source": [
    "plt.plot( x, y, 'o-');\n",
    "plt.xlabel('eixo X', size = 15);\n",
    "plt.ylabel('eixo Y', size = 15);\n",
    "plt.title('Título do meu gráfico');"
   ]
  },
  {
   "cell_type": "markdown",
   "id": "4ffc1885",
   "metadata": {
    "ExecuteTime": {
     "end_time": "2022-05-19T23:42:42.240504Z",
     "start_time": "2022-05-19T23:42:42.214521Z"
    }
   },
   "source": [
    "## 2.5. Gráfico de histogramas"
   ]
  },
  {
   "cell_type": "code",
   "execution_count": 277,
   "id": "873f322e",
   "metadata": {
    "ExecuteTime": {
     "end_time": "2022-05-20T15:17:36.233728Z",
     "start_time": "2022-05-20T15:17:36.188759Z"
    }
   },
   "outputs": [
    {
     "data": {
      "text/plain": [
       "array([3.09723121e-01, 1.29826470e-01, 6.66168879e-01, 4.65568756e-01,\n",
       "       7.29128995e-01, 2.24360746e-01, 5.59765676e-01, 7.22680951e-01,\n",
       "       5.90990084e-01, 7.65963169e-01, 2.41497540e-01, 9.72286595e-01,\n",
       "       4.28547040e-01, 6.44930422e-02, 9.52898104e-01, 4.47297818e-02,\n",
       "       9.35279391e-01, 5.43419523e-01, 7.42809991e-01, 2.19645653e-02,\n",
       "       2.00961064e-02, 4.73142329e-01, 7.51361893e-01, 1.16296389e-01,\n",
       "       4.91460660e-01, 3.09864051e-01, 9.60103874e-01, 8.50243307e-01,\n",
       "       1.27134865e-01, 9.57286974e-01, 4.29114467e-01, 4.99983773e-01,\n",
       "       4.55857132e-01, 2.39618087e-01, 3.67151821e-01, 2.77236301e-01,\n",
       "       9.91272483e-01, 5.03794248e-01, 4.22759875e-01, 4.79676768e-01,\n",
       "       1.70207865e-01, 5.27630367e-01, 8.29527964e-02, 6.71559982e-02,\n",
       "       2.96058574e-01, 1.90340439e-02, 4.86350622e-02, 1.27560195e-01,\n",
       "       5.13018623e-01, 3.87121064e-01, 7.18019715e-01, 4.16330183e-01,\n",
       "       3.18578193e-01, 5.17209718e-01, 7.48344238e-01, 1.15375493e-01,\n",
       "       3.16427543e-01, 5.99696721e-01, 5.99735551e-01, 2.63435265e-01,\n",
       "       4.96176150e-01, 4.33755886e-01, 9.28662319e-01, 4.79790996e-02,\n",
       "       9.14686669e-01, 7.44474784e-01, 5.24995649e-01, 7.51620216e-02,\n",
       "       2.79910934e-01, 9.42597177e-01, 3.54913343e-01, 6.58963417e-01,\n",
       "       9.65171941e-01, 7.32765226e-01, 7.46546659e-01, 7.71354769e-02,\n",
       "       7.97353637e-01, 8.01273146e-01, 6.44259600e-01, 7.45662511e-01,\n",
       "       7.69620921e-01, 9.80370032e-01, 1.90653394e-01, 4.46008443e-01,\n",
       "       5.95239102e-01, 2.90785543e-01, 9.44963233e-01, 9.46305377e-01,\n",
       "       3.88591086e-01, 8.93614209e-01, 6.36248403e-01, 9.52162331e-02,\n",
       "       8.51295933e-04, 7.27781750e-01, 3.14546143e-01, 6.95424499e-02,\n",
       "       6.84761621e-01, 4.29242860e-01, 7.90228554e-01, 4.15271247e-01,\n",
       "       4.61925328e-01, 7.62246100e-01, 2.41914803e-03, 9.80982408e-02,\n",
       "       9.26996804e-02, 5.08801020e-01, 6.30919482e-01, 6.19276948e-01,\n",
       "       2.68116616e-01, 5.44765075e-01, 5.54985589e-01, 8.27016190e-01,\n",
       "       8.53910264e-02, 3.83777370e-01, 8.84730674e-01, 6.80419556e-01,\n",
       "       5.57053628e-01, 4.31344512e-01, 6.17227990e-01, 8.27570178e-01,\n",
       "       5.11634032e-02, 4.06648233e-01, 2.40062651e-01, 9.06918026e-01,\n",
       "       3.99740187e-02, 8.96941609e-01, 9.43700490e-02, 7.21356724e-01,\n",
       "       7.32885361e-01, 4.47162323e-01, 7.38872993e-01, 2.59390752e-01,\n",
       "       4.58565960e-02, 5.48696035e-01, 8.72144778e-01, 8.99988894e-01,\n",
       "       9.30410717e-01, 5.45682470e-01, 1.32923337e-01, 8.60696721e-01,\n",
       "       4.60409059e-01, 4.04603597e-01, 6.15569571e-01, 8.94877505e-01,\n",
       "       2.80343075e-01, 7.95409178e-01, 1.81322678e-02, 4.52017614e-01,\n",
       "       6.20109403e-01, 4.06028987e-01, 3.67902370e-01, 1.88604025e-01,\n",
       "       6.36237107e-01, 5.83236274e-01, 1.11626938e-01, 3.21930758e-01,\n",
       "       4.02698750e-01, 2.57902111e-01, 7.07449554e-01, 4.70642239e-01,\n",
       "       7.64309570e-01, 2.79558017e-02, 5.15960684e-01, 4.29086883e-02,\n",
       "       1.65722126e-01, 7.07276828e-01, 5.19671021e-01, 5.11325223e-01,\n",
       "       6.28723773e-01, 4.32722735e-01, 9.52670543e-01, 9.44915797e-01,\n",
       "       5.12819192e-01, 9.80035968e-02, 8.00568632e-01, 2.40361823e-01,\n",
       "       1.72344604e-01, 1.74952230e-01, 2.70158417e-01, 8.22443618e-01,\n",
       "       4.97561999e-01, 4.56698306e-01, 2.69554849e-01, 6.32278827e-01,\n",
       "       6.58837844e-01, 3.58655305e-01, 3.34619495e-01, 8.03940764e-01,\n",
       "       8.25503486e-01, 4.99386556e-01, 1.94856961e-01, 1.75844470e-01,\n",
       "       1.76676924e-01, 9.82279769e-01, 4.08328062e-01, 2.21749138e-01,\n",
       "       1.86260640e-01, 1.59890796e-02, 6.16409646e-01, 3.38118264e-01,\n",
       "       4.24595144e-01, 8.75861246e-01, 9.65413010e-01, 8.33004539e-01,\n",
       "       2.53233774e-01, 5.07596148e-01, 9.51123833e-01, 9.77554471e-01,\n",
       "       3.25374612e-01, 7.91053129e-01, 2.21678317e-01, 7.39404605e-01,\n",
       "       9.35226519e-01, 5.56793622e-01, 1.15950818e-01, 8.39185034e-02,\n",
       "       4.31955830e-01, 2.46177600e-01, 7.54474582e-01, 1.18060570e-01,\n",
       "       3.54927843e-01, 2.66058856e-01, 5.22872280e-01, 9.81079615e-01,\n",
       "       7.83537972e-01, 9.08759109e-01, 1.56446929e-01, 7.58236329e-01,\n",
       "       9.07713540e-01, 4.42908674e-01, 7.45646452e-01, 8.50198096e-01,\n",
       "       3.98948808e-01, 9.83024665e-02, 9.70637940e-01, 3.61130601e-01,\n",
       "       6.24180405e-01, 4.37760035e-01, 3.45405266e-01, 8.72895262e-02,\n",
       "       2.43875889e-01, 6.12989066e-01, 1.29394322e-01, 6.64373600e-01,\n",
       "       9.56061227e-02, 5.16252922e-01, 1.15517810e-01, 8.60870403e-01,\n",
       "       2.69677148e-01, 5.10123036e-01, 5.37339408e-01, 4.41529527e-01,\n",
       "       4.21424123e-01, 4.30912883e-02, 7.18020549e-02, 8.51114757e-01,\n",
       "       5.21878757e-01, 9.13841106e-01, 3.02224593e-01, 8.51411832e-01,\n",
       "       5.77858400e-02, 9.06545110e-01, 2.83621669e-01, 6.69179338e-01,\n",
       "       9.97674799e-01, 4.32705321e-01, 5.38488860e-01, 3.99006287e-01,\n",
       "       2.93460859e-01, 9.77862704e-01, 4.21824783e-01, 3.73912731e-01,\n",
       "       4.41575903e-01, 1.11531519e-01, 4.99070750e-01, 6.07446087e-01,\n",
       "       2.63821518e-01, 3.11294742e-02, 1.95799631e-01, 5.19309404e-02,\n",
       "       8.83050424e-01, 1.53906280e-01, 7.62034855e-01, 3.09481523e-01,\n",
       "       1.84765897e-01, 1.53381354e-01, 2.43521883e-01, 3.85401778e-01,\n",
       "       2.88412786e-01, 1.72513851e-01, 6.57459681e-02, 7.94498791e-01,\n",
       "       2.99944321e-01, 5.87159841e-01, 3.83173824e-01, 4.60926734e-01,\n",
       "       5.70717832e-01, 1.37376959e-01, 4.12472875e-01, 4.62899284e-01,\n",
       "       4.53175002e-01, 4.14149853e-01, 6.66897918e-01, 9.52645153e-02,\n",
       "       6.06432392e-01, 2.39982868e-01, 6.45276860e-01, 2.10193855e-01,\n",
       "       1.64544687e-02, 6.50495987e-01, 3.43874731e-01, 7.01662152e-01,\n",
       "       7.51556726e-01, 2.37608015e-01, 5.53013076e-01, 8.19624473e-01,\n",
       "       8.78970103e-01, 3.84324206e-01, 4.09328718e-01, 1.80796415e-01,\n",
       "       1.80391452e-01, 3.65564810e-01, 3.84926982e-01, 9.58726427e-01,\n",
       "       7.03539180e-01, 2.10507657e-01, 2.66327893e-01, 2.08917978e-01,\n",
       "       2.98226060e-01, 8.60907318e-01, 8.24588114e-01, 6.41548483e-01,\n",
       "       6.06196076e-01, 1.33081579e-01, 8.06844231e-01, 1.99799978e-01,\n",
       "       3.67184903e-01, 6.04411068e-01, 4.92642972e-01, 6.02443838e-01,\n",
       "       1.49894111e-01, 3.55686214e-01, 5.74108118e-01, 6.40512334e-01,\n",
       "       8.87794230e-01, 9.98791284e-01, 3.43851291e-01, 6.45297638e-01,\n",
       "       4.34362442e-01, 6.72036418e-01, 6.57972448e-01, 9.99603295e-01,\n",
       "       6.20792507e-01, 5.30744332e-01, 1.12991974e-01, 7.21351545e-01,\n",
       "       2.45459163e-01, 6.94896340e-01, 4.81303292e-01, 4.98310186e-02,\n",
       "       2.47777938e-01, 2.27716759e-01, 4.04655436e-01, 1.33294379e-02,\n",
       "       7.02634134e-01, 6.47436146e-01, 4.14833184e-01, 8.10974978e-01,\n",
       "       9.47961638e-01, 3.11069679e-01, 2.09156933e-01, 8.31555285e-02,\n",
       "       9.95607863e-01, 8.95337089e-02, 1.60690041e-02, 7.63783293e-01,\n",
       "       2.46680721e-02, 4.44939043e-01, 8.00455457e-01, 9.96135333e-01,\n",
       "       9.39087478e-01, 6.02368471e-01, 4.75980308e-01, 4.38212677e-01,\n",
       "       6.90536662e-01, 5.73993288e-01, 2.64081029e-02, 7.34071040e-01,\n",
       "       9.11632951e-01, 7.36015820e-01, 2.92021951e-01, 1.05105729e-01,\n",
       "       2.39263870e-01, 8.77687039e-01, 1.29110301e-01, 4.08339179e-01,\n",
       "       1.33722963e-01, 4.54838879e-01, 4.26658225e-01, 2.84053135e-01,\n",
       "       6.12551262e-01, 2.71643149e-01, 1.01245734e-01, 2.46962025e-01,\n",
       "       4.29588522e-01, 7.39669452e-01, 4.54668224e-01, 1.07007925e-01,\n",
       "       6.93578343e-01, 5.81683271e-01, 7.07387625e-01, 6.73793783e-01,\n",
       "       2.99691551e-02, 4.28032609e-01, 3.92866173e-01, 9.26517092e-01,\n",
       "       8.19201347e-01, 4.61293060e-01, 1.66152401e-01, 9.85390914e-01,\n",
       "       5.48441330e-02, 5.38383410e-01, 8.87110694e-01, 9.75350801e-01,\n",
       "       9.79150550e-01, 9.10703816e-01, 7.33028563e-01, 1.72207827e-02,\n",
       "       5.78279944e-01, 4.35552954e-01, 4.31978713e-01, 2.86051203e-03,\n",
       "       7.80348049e-02, 6.12755113e-01, 6.89115895e-02, 9.96987640e-01,\n",
       "       1.13964587e-01, 6.26741565e-01, 7.84399552e-01, 7.26986966e-01,\n",
       "       3.18722273e-01, 1.37044246e-01, 4.53264054e-01, 7.41639213e-01,\n",
       "       6.76061053e-01, 7.48042909e-01, 7.66917000e-01, 1.03224617e-01,\n",
       "       7.53268299e-01, 2.50811506e-01, 9.56349909e-01, 6.33043754e-02,\n",
       "       3.14884572e-02, 8.84621425e-01, 2.68340981e-01, 2.66917882e-01,\n",
       "       6.92492228e-01, 3.92109292e-01, 7.56484178e-01, 7.29958537e-02,\n",
       "       2.24879151e-01, 4.77685429e-01, 1.92347830e-01, 2.19521373e-02,\n",
       "       8.35652917e-01, 7.11273362e-01, 9.37893568e-01, 9.75015413e-01,\n",
       "       3.85339820e-01, 2.79978446e-01, 1.76651831e-01, 2.26153381e-01,\n",
       "       7.18046988e-01, 5.99921534e-01, 4.84722634e-01, 1.64072633e-02,\n",
       "       1.29482798e-01, 8.28357581e-03, 1.86181855e-02, 5.70333827e-01,\n",
       "       7.08816470e-01, 8.33747597e-01, 3.31704369e-02, 2.99642627e-02,\n",
       "       6.31969640e-01, 6.91605751e-01, 3.06068101e-01, 8.23632300e-01,\n",
       "       1.21588519e-01, 8.63229081e-01, 5.43524083e-01, 2.48782331e-01,\n",
       "       1.10682972e-01, 8.16006580e-01, 1.83512761e-01, 6.45767029e-01,\n",
       "       2.68168336e-01, 8.32378246e-01, 6.79074703e-01, 5.19912691e-01,\n",
       "       8.61019559e-01, 9.16293159e-01, 6.78474947e-01, 4.90850017e-01,\n",
       "       1.48838038e-01, 3.31901850e-01, 4.80033025e-02, 3.28691239e-01,\n",
       "       3.54320279e-01, 3.41466437e-01, 8.48642344e-01, 5.67879462e-01,\n",
       "       6.74451353e-01, 8.30066712e-01, 5.60694579e-01, 1.42520109e-01,\n",
       "       6.13258233e-01, 4.95636815e-01, 9.04609221e-01, 3.19473887e-01,\n",
       "       8.50429113e-01, 6.18598148e-01, 3.64336270e-01, 7.23133064e-01,\n",
       "       5.04910273e-01, 3.33280712e-02, 8.97576850e-01, 5.38200102e-01,\n",
       "       2.24332643e-01, 3.38255876e-01, 6.48778446e-01, 2.23817819e-01,\n",
       "       5.13556350e-01, 2.61785387e-02, 2.08640975e-01, 3.94401353e-01,\n",
       "       7.04070327e-01, 2.01658640e-02, 3.06358940e-01, 7.38936585e-01,\n",
       "       3.60893317e-01, 1.84961204e-01, 5.12105801e-01, 2.04557759e-01,\n",
       "       3.85144492e-01, 8.22905672e-02, 9.86883296e-01, 6.99796786e-01,\n",
       "       3.99770231e-01, 1.53226112e-01, 7.92367653e-01, 9.64766200e-01,\n",
       "       2.26823694e-01, 8.44975206e-01, 8.32972915e-01, 8.74383231e-01,\n",
       "       8.95310203e-01, 5.81656920e-01, 2.10717239e-01, 8.97335136e-01,\n",
       "       2.14410676e-01, 6.61325508e-01, 7.64563959e-01, 1.944"
      ]
     },
     "execution_count": 277,
     "metadata": {},
     "output_type": "execute_result"
    },
    {
     "data": {
      "text/html": [
       "<b>limit_output extension: Maximum message size of 10000 exceeded with 17750 characters</b>"
      ]
     },
     "metadata": {},
     "output_type": "display_data"
    }
   ],
   "source": [
    "x = np.random.rand(1000)\n",
    "\n",
    "x"
   ]
  },
  {
   "cell_type": "code",
   "execution_count": 278,
   "id": "46f10964",
   "metadata": {
    "ExecuteTime": {
     "end_time": "2022-05-20T15:17:36.582819Z",
     "start_time": "2022-05-20T15:17:36.236727Z"
    },
    "scrolled": true
   },
   "outputs": [
    {
     "data": {
      "image/png": "[encoded data removed]",
      "text/plain": [
       "<Figure size 432x288 with 1 Axes>"
      ]
     },
     "metadata": {},
     "output_type": "display_data"
    }
   ],
   "source": [
    "plt.hist(x, bins = 10);\n",
    "plt.xlabel('Eixo x');\n",
    "plt.ylabel('Frequência');\n",
    "plt.grid(True);"
   ]
  },
  {
   "cell_type": "markdown",
   "id": "13fb9143",
   "metadata": {},
   "source": [
    "# 3.0. MEDIDAS DE TENDÊNCIA CENTRAL"
   ]
  },
  {
   "cell_type": "markdown",
   "id": "48629813",
   "metadata": {},
   "source": [
    "## loading data"
   ]
  },
  {
   "cell_type": "code",
   "execution_count": 279,
   "id": "cfac1d83",
   "metadata": {
    "ExecuteTime": {
     "end_time": "2022-05-20T15:17:36.598801Z",
     "start_time": "2022-05-20T15:17:36.586802Z"
    },
    "scrolled": false
   },
   "outputs": [
    {
     "data": {
      "text/plain": [
       "(150, 5)"
      ]
     },
     "execution_count": 279,
     "metadata": {},
     "output_type": "execute_result"
    }
   ],
   "source": [
    "dados.shape"
   ]
  },
  {
   "cell_type": "code",
   "execution_count": 280,
   "id": "934bcf6b",
   "metadata": {
    "ExecuteTime": {
     "end_time": "2022-05-20T15:17:36.697001Z",
     "start_time": "2022-05-20T15:17:36.602794Z"
    },
    "scrolled": false
   },
   "outputs": [
    {
     "data": {
      "text/html": [
       "<div>\n",
       "<style scoped>\n",
       "    .dataframe tbody tr th:only-of-type {\n",
       "        vertical-align: middle;\n",
       "    }\n",
       "\n",
       "    .dataframe tbody tr th {\n",
       "        vertical-align: top;\n",
       "    }\n",
       "\n",
       "    .dataframe thead th {\n",
       "        text-align: right;\n",
       "    }\n",
       "</style>\n",
       "<table border=\"1\" class=\"dataframe\">\n",
       "  <thead>\n",
       "    <tr style=\"text-align: right;\">\n",
       "      <th></th>\n",
       "      <th>sepal_length</th>\n",
       "      <th>sepal_width</th>\n",
       "      <th>petal_length</th>\n",
       "      <th>petal_width</th>\n",
       "      <th>species</th>\n",
       "    </tr>\n",
       "  </thead>\n",
       "  <tbody>\n",
       "    <tr>\n",
       "      <th>0</th>\n",
       "      <td>5.1</td>\n",
       "      <td>3.5</td>\n",
       "      <td>1.4</td>\n",
       "      <td>0.2</td>\n",
       "      <td>setosa</td>\n",
       "    </tr>\n",
       "    <tr>\n",
       "      <th>1</th>\n",
       "      <td>4.9</td>\n",
       "      <td>3.0</td>\n",
       "      <td>1.4</td>\n",
       "      <td>0.2</td>\n",
       "      <td>setosa</td>\n",
       "    </tr>\n",
       "    <tr>\n",
       "      <th>2</th>\n",
       "      <td>4.7</td>\n",
       "      <td>3.2</td>\n",
       "      <td>1.3</td>\n",
       "      <td>0.2</td>\n",
       "      <td>setosa</td>\n",
       "    </tr>\n",
       "    <tr>\n",
       "      <th>3</th>\n",
       "      <td>4.6</td>\n",
       "      <td>3.1</td>\n",
       "      <td>1.5</td>\n",
       "      <td>0.2</td>\n",
       "      <td>setosa</td>\n",
       "    </tr>\n",
       "    <tr>\n",
       "      <th>4</th>\n",
       "      <td>5.0</td>\n",
       "      <td>3.6</td>\n",
       "      <td>1.4</td>\n",
       "      <td>0.2</td>\n",
       "      <td>setosa</td>\n",
       "    </tr>\n",
       "  </tbody>\n",
       "</table>\n",
       "</div>"
      ],
      "text/plain": [
       "   sepal_length  sepal_width  petal_length  petal_width species\n",
       "0           5.1          3.5           1.4          0.2  setosa\n",
       "1           4.9          3.0           1.4          0.2  setosa\n",
       "2           4.7          3.2           1.3          0.2  setosa\n",
       "3           4.6          3.1           1.5          0.2  setosa\n",
       "4           5.0          3.6           1.4          0.2  setosa"
      ]
     },
     "execution_count": 280,
     "metadata": {},
     "output_type": "execute_result"
    }
   ],
   "source": [
    "dados.head(5)"
   ]
  },
  {
   "cell_type": "code",
   "execution_count": 281,
   "id": "7e327ce7",
   "metadata": {
    "ExecuteTime": {
     "end_time": "2022-05-20T15:17:36.823068Z",
     "start_time": "2022-05-20T15:17:36.699998Z"
    }
   },
   "outputs": [
    {
     "data": {
      "text/html": [
       "<div>\n",
       "<style scoped>\n",
       "    .dataframe tbody tr th:only-of-type {\n",
       "        vertical-align: middle;\n",
       "    }\n",
       "\n",
       "    .dataframe tbody tr th {\n",
       "        vertical-align: top;\n",
       "    }\n",
       "\n",
       "    .dataframe thead th {\n",
       "        text-align: right;\n",
       "    }\n",
       "</style>\n",
       "<table border=\"1\" class=\"dataframe\">\n",
       "  <thead>\n",
       "    <tr style=\"text-align: right;\">\n",
       "      <th></th>\n",
       "      <th>sepal_length</th>\n",
       "      <th>sepal_width</th>\n",
       "      <th>petal_length</th>\n",
       "      <th>petal_width</th>\n",
       "    </tr>\n",
       "  </thead>\n",
       "  <tbody>\n",
       "    <tr>\n",
       "      <th>count</th>\n",
       "      <td>150.000000</td>\n",
       "      <td>150.000000</td>\n",
       "      <td>150.000000</td>\n",
       "      <td>150.000000</td>\n",
       "    </tr>\n",
       "    <tr>\n",
       "      <th>mean</th>\n",
       "      <td>5.843333</td>\n",
       "      <td>3.057333</td>\n",
       "      <td>3.758000</td>\n",
       "      <td>1.199333</td>\n",
       "    </tr>\n",
       "    <tr>\n",
       "      <th>std</th>\n",
       "      <td>0.828066</td>\n",
       "      <td>0.435866</td>\n",
       "      <td>1.765298</td>\n",
       "      <td>0.762238</td>\n",
       "    </tr>\n",
       "    <tr>\n",
       "      <th>min</th>\n",
       "      <td>4.300000</td>\n",
       "      <td>2.000000</td>\n",
       "      <td>1.000000</td>\n",
       "      <td>0.100000</td>\n",
       "    </tr>\n",
       "    <tr>\n",
       "      <th>25%</th>\n",
       "      <td>5.100000</td>\n",
       "      <td>2.800000</td>\n",
       "      <td>1.600000</td>\n",
       "      <td>0.300000</td>\n",
       "    </tr>\n",
       "    <tr>\n",
       "      <th>50%</th>\n",
       "      <td>5.800000</td>\n",
       "      <td>3.000000</td>\n",
       "      <td>4.350000</td>\n",
       "      <td>1.300000</td>\n",
       "    </tr>\n",
       "    <tr>\n",
       "      <th>75%</th>\n",
       "      <td>6.400000</td>\n",
       "      <td>3.300000</td>\n",
       "      <td>5.100000</td>\n",
       "      <td>1.800000</td>\n",
       "    </tr>\n",
       "    <tr>\n",
       "      <th>max</th>\n",
       "      <td>7.900000</td>\n",
       "      <td>4.400000</td>\n",
       "      <td>6.900000</td>\n",
       "      <td>2.500000</td>\n",
       "    </tr>\n",
       "  </tbody>\n",
       "</table>\n",
       "</div>"
      ],
      "text/plain": [
       "       sepal_length  sepal_width  petal_length  petal_width\n",
       "count    150.000000   150.000000    150.000000   150.000000\n",
       "mean       5.843333     3.057333      3.758000     1.199333\n",
       "std        0.828066     0.435866      1.765298     0.762238\n",
       "min        4.300000     2.000000      1.000000     0.100000\n",
       "25%        5.100000     2.800000      1.600000     0.300000\n",
       "50%        5.800000     3.000000      4.350000     1.300000\n",
       "75%        6.400000     3.300000      5.100000     1.800000\n",
       "max        7.900000     4.400000      6.900000     2.500000"
      ]
     },
     "execution_count": 281,
     "metadata": {},
     "output_type": "execute_result"
    }
   ],
   "source": [
    "dados.describe()"
   ]
  },
  {
   "cell_type": "markdown",
   "id": "27af5d87",
   "metadata": {},
   "source": [
    "## 3.1. Cálculo da média"
   ]
  },
  {
   "cell_type": "code",
   "execution_count": 282,
   "id": "2482907b",
   "metadata": {
    "ExecuteTime": {
     "end_time": "2022-05-20T15:17:36.903356Z",
     "start_time": "2022-05-20T15:17:36.827066Z"
    }
   },
   "outputs": [
    {
     "data": {
      "text/plain": [
       "5.843333333333334"
      ]
     },
     "execution_count": 282,
     "metadata": {},
     "output_type": "execute_result"
    }
   ],
   "source": [
    "med_sl = np.mean(dados['sepal_length'])\n",
    "\n",
    "med_sl "
   ]
  },
  {
   "cell_type": "code",
   "execution_count": 283,
   "id": "247c40fe",
   "metadata": {
    "ExecuteTime": {
     "end_time": "2022-05-20T15:17:36.983417Z",
     "start_time": "2022-05-20T15:17:36.910349Z"
    }
   },
   "outputs": [
    {
     "data": {
      "text/plain": [
       "3.0573333333333337"
      ]
     },
     "execution_count": 283,
     "metadata": {},
     "output_type": "execute_result"
    }
   ],
   "source": [
    "med_sw = np.mean(dados['sepal_width'])\n",
    "\n",
    "med_sw "
   ]
  },
  {
   "cell_type": "code",
   "execution_count": 284,
   "id": "9dcec946",
   "metadata": {
    "ExecuteTime": {
     "end_time": "2022-05-20T15:17:37.064480Z",
     "start_time": "2022-05-20T15:17:36.987421Z"
    }
   },
   "outputs": [
    {
     "data": {
      "text/plain": [
       "3.7580000000000005"
      ]
     },
     "execution_count": 284,
     "metadata": {},
     "output_type": "execute_result"
    }
   ],
   "source": [
    "med_pl = np.mean(dados['petal_length'])\n",
    "\n",
    "med_pl "
   ]
  },
  {
   "cell_type": "code",
   "execution_count": 285,
   "id": "db4eb6d0",
   "metadata": {
    "ExecuteTime": {
     "end_time": "2022-05-20T15:17:37.159268Z",
     "start_time": "2022-05-20T15:17:37.067488Z"
    }
   },
   "outputs": [
    {
     "data": {
      "text/plain": [
       "1.1993333333333336"
      ]
     },
     "execution_count": 285,
     "metadata": {},
     "output_type": "execute_result"
    }
   ],
   "source": [
    "med_pw = np.mean(dados['petal_width'])\n",
    "\n",
    "med_pw"
   ]
  },
  {
   "cell_type": "markdown",
   "id": "72ccb7a8",
   "metadata": {},
   "source": [
    "## 3.2. Cálculo otimizado da média"
   ]
  },
  {
   "cell_type": "code",
   "execution_count": 286,
   "id": "deb01610",
   "metadata": {
    "ExecuteTime": {
     "end_time": "2022-05-20T15:17:37.238725Z",
     "start_time": "2022-05-20T15:17:37.164264Z"
    }
   },
   "outputs": [
    {
     "data": {
      "text/plain": [
       "pandas.core.frame.DataFrame"
      ]
     },
     "execution_count": 286,
     "metadata": {},
     "output_type": "execute_result"
    }
   ],
   "source": [
    "type(dados)"
   ]
  },
  {
   "cell_type": "code",
   "execution_count": 471,
   "id": "5deea0b4",
   "metadata": {
    "ExecuteTime": {
     "end_time": "2022-05-20T16:29:58.771698Z",
     "start_time": "2022-05-20T16:29:58.754710Z"
    },
    "scrolled": true
   },
   "outputs": [
    {
     "data": {
      "text/plain": [
       "sepal_length    5.843333\n",
       "sepal_width     3.057333\n",
       "petal_length    3.758000\n",
       "petal_width     1.199333\n",
       "dtype: float64"
      ]
     },
     "execution_count": 471,
     "metadata": {},
     "output_type": "execute_result"
    }
   ],
   "source": [
    "dados.iloc[:, 0 : 4].mean()"
   ]
  },
  {
   "cell_type": "markdown",
   "id": "c96d7448",
   "metadata": {},
   "source": [
    "## 3.3. Cálculo da mediana"
   ]
  },
  {
   "cell_type": "code",
   "execution_count": 288,
   "id": "016814fd",
   "metadata": {
    "ExecuteTime": {
     "end_time": "2022-05-20T15:17:37.412376Z",
     "start_time": "2022-05-20T15:17:37.392037Z"
    }
   },
   "outputs": [
    {
     "data": {
      "text/plain": [
       "5.8"
      ]
     },
     "execution_count": 288,
     "metadata": {},
     "output_type": "execute_result"
    }
   ],
   "source": [
    "mediana_sl = np.median(dados['sepal_length'])\n",
    "mediana_sl"
   ]
  },
  {
   "cell_type": "code",
   "execution_count": 289,
   "id": "981ad330",
   "metadata": {
    "ExecuteTime": {
     "end_time": "2022-05-20T15:17:37.495460Z",
     "start_time": "2022-05-20T15:17:37.415384Z"
    }
   },
   "outputs": [
    {
     "data": {
      "text/plain": [
       "3.0"
      ]
     },
     "execution_count": 289,
     "metadata": {},
     "output_type": "execute_result"
    }
   ],
   "source": [
    "mediana_sw = np.median(dados['sepal_width'])\n",
    "mediana_sw"
   ]
  },
  {
   "cell_type": "code",
   "execution_count": 290,
   "id": "d36519ab",
   "metadata": {
    "ExecuteTime": {
     "end_time": "2022-05-20T15:17:37.574221Z",
     "start_time": "2022-05-20T15:17:37.499464Z"
    }
   },
   "outputs": [
    {
     "data": {
      "text/plain": [
       "4.35"
      ]
     },
     "execution_count": 290,
     "metadata": {},
     "output_type": "execute_result"
    }
   ],
   "source": [
    "mediana_pl = np.median(dados['petal_length'])\n",
    "mediana_pl"
   ]
  },
  {
   "cell_type": "code",
   "execution_count": 291,
   "id": "1179699d",
   "metadata": {
    "ExecuteTime": {
     "end_time": "2022-05-20T15:17:37.652811Z",
     "start_time": "2022-05-20T15:17:37.577219Z"
    }
   },
   "outputs": [
    {
     "data": {
      "text/plain": [
       "1.3"
      ]
     },
     "execution_count": 291,
     "metadata": {},
     "output_type": "execute_result"
    }
   ],
   "source": [
    "mediana_pw = np.median(dados['petal_width'])\n",
    "mediana_pw"
   ]
  },
  {
   "cell_type": "markdown",
   "id": "cc9a904b",
   "metadata": {},
   "source": [
    "## 3.4. Cálculo da moda"
   ]
  },
  {
   "cell_type": "code",
   "execution_count": 292,
   "id": "debf774c",
   "metadata": {
    "ExecuteTime": {
     "end_time": "2022-05-20T15:17:37.749072Z",
     "start_time": "2022-05-20T15:17:37.655810Z"
    },
    "scrolled": true
   },
   "outputs": [
    {
     "data": {
      "text/plain": [
       "0    5.0\n",
       "Name: sepal_length, dtype: float64"
      ]
     },
     "execution_count": 292,
     "metadata": {},
     "output_type": "execute_result"
    }
   ],
   "source": [
    "moda_sl = dados['sepal_length'].mode()\n",
    "moda_sl"
   ]
  },
  {
   "cell_type": "code",
   "execution_count": 293,
   "id": "e6e8ca8b",
   "metadata": {
    "ExecuteTime": {
     "end_time": "2022-05-20T15:17:37.835303Z",
     "start_time": "2022-05-20T15:17:37.753824Z"
    }
   },
   "outputs": [
    {
     "data": {
      "text/plain": [
       "0    3.0\n",
       "Name: sepal_width, dtype: float64"
      ]
     },
     "execution_count": 293,
     "metadata": {},
     "output_type": "execute_result"
    }
   ],
   "source": [
    "moda_sw = dados['sepal_width'].mode()\n",
    "moda_sw"
   ]
  },
  {
   "cell_type": "code",
   "execution_count": 294,
   "id": "3cc36a65",
   "metadata": {
    "ExecuteTime": {
     "end_time": "2022-05-20T15:17:37.913539Z",
     "start_time": "2022-05-20T15:17:37.839311Z"
    }
   },
   "outputs": [
    {
     "data": {
      "text/plain": [
       "0    1.4\n",
       "1    1.5\n",
       "Name: petal_length, dtype: float64"
      ]
     },
     "execution_count": 294,
     "metadata": {},
     "output_type": "execute_result"
    }
   ],
   "source": [
    "moda_pl = dados['petal_length'].mode()\n",
    "moda_pl"
   ]
  },
  {
   "cell_type": "code",
   "execution_count": 295,
   "id": "b941af92",
   "metadata": {
    "ExecuteTime": {
     "end_time": "2022-05-20T15:17:37.994024Z",
     "start_time": "2022-05-20T15:17:37.916529Z"
    }
   },
   "outputs": [
    {
     "data": {
      "text/plain": [
       "0    0.2\n",
       "Name: petal_width, dtype: float64"
      ]
     },
     "execution_count": 295,
     "metadata": {},
     "output_type": "execute_result"
    }
   ],
   "source": [
    "moda_pw = dados['petal_width'].mode()\n",
    "moda_pw"
   ]
  },
  {
   "cell_type": "markdown",
   "id": "c379015a",
   "metadata": {},
   "source": [
    "## 3.5. Cálculo de separatrizes"
   ]
  },
  {
   "cell_type": "code",
   "execution_count": 296,
   "id": "5c303ddb",
   "metadata": {
    "ExecuteTime": {
     "end_time": "2022-05-20T15:17:38.088972Z",
     "start_time": "2022-05-20T15:17:37.998020Z"
    }
   },
   "outputs": [
    {
     "data": {
      "text/plain": [
       "4.8"
      ]
     },
     "execution_count": 296,
     "metadata": {},
     "output_type": "execute_result"
    }
   ],
   "source": [
    "sl_p10 = np.quantile(dados['sepal_length'], 0.10)\n",
    "sl_p10"
   ]
  },
  {
   "cell_type": "code",
   "execution_count": 297,
   "id": "f280918e",
   "metadata": {
    "ExecuteTime": {
     "end_time": "2022-05-20T15:17:38.184910Z",
     "start_time": "2022-05-20T15:17:38.096968Z"
    }
   },
   "outputs": [
    {
     "data": {
      "text/plain": [
       "4.6"
      ]
     },
     "execution_count": 297,
     "metadata": {},
     "output_type": "execute_result"
    }
   ],
   "source": [
    "sl_p05 = np.quantile(dados['sepal_length'], 0.05)\n",
    "sl_p05"
   ]
  },
  {
   "cell_type": "code",
   "execution_count": 298,
   "id": "ae827dc7",
   "metadata": {
    "ExecuteTime": {
     "end_time": "2022-05-20T15:17:38.278671Z",
     "start_time": "2022-05-20T15:17:38.186912Z"
    }
   },
   "outputs": [
    {
     "data": {
      "text/plain": [
       "5.8"
      ]
     },
     "execution_count": 298,
     "metadata": {},
     "output_type": "execute_result"
    }
   ],
   "source": [
    "# quartil 2 ou mediana\n",
    "\n",
    "sl_Q2 = np.quantile(dados['sepal_length'], 0.50)\n",
    "sl_Q2"
   ]
  },
  {
   "cell_type": "markdown",
   "id": "2498d87b",
   "metadata": {},
   "source": [
    "# 4.0. PLOTAGEM DOS DADOS"
   ]
  },
  {
   "cell_type": "code",
   "execution_count": 299,
   "id": "d5ee17a5",
   "metadata": {
    "ExecuteTime": {
     "end_time": "2022-05-20T15:17:38.372599Z",
     "start_time": "2022-05-20T15:17:38.281982Z"
    }
   },
   "outputs": [
    {
     "data": {
      "text/html": [
       "<div>\n",
       "<style scoped>\n",
       "    .dataframe tbody tr th:only-of-type {\n",
       "        vertical-align: middle;\n",
       "    }\n",
       "\n",
       "    .dataframe tbody tr th {\n",
       "        vertical-align: top;\n",
       "    }\n",
       "\n",
       "    .dataframe thead th {\n",
       "        text-align: right;\n",
       "    }\n",
       "</style>\n",
       "<table border=\"1\" class=\"dataframe\">\n",
       "  <thead>\n",
       "    <tr style=\"text-align: right;\">\n",
       "      <th></th>\n",
       "      <th>sepal_length</th>\n",
       "      <th>sepal_width</th>\n",
       "      <th>petal_length</th>\n",
       "      <th>petal_width</th>\n",
       "      <th>species</th>\n",
       "    </tr>\n",
       "  </thead>\n",
       "  <tbody>\n",
       "    <tr>\n",
       "      <th>0</th>\n",
       "      <td>5.1</td>\n",
       "      <td>3.5</td>\n",
       "      <td>1.4</td>\n",
       "      <td>0.2</td>\n",
       "      <td>setosa</td>\n",
       "    </tr>\n",
       "    <tr>\n",
       "      <th>1</th>\n",
       "      <td>4.9</td>\n",
       "      <td>3.0</td>\n",
       "      <td>1.4</td>\n",
       "      <td>0.2</td>\n",
       "      <td>setosa</td>\n",
       "    </tr>\n",
       "    <tr>\n",
       "      <th>2</th>\n",
       "      <td>4.7</td>\n",
       "      <td>3.2</td>\n",
       "      <td>1.3</td>\n",
       "      <td>0.2</td>\n",
       "      <td>setosa</td>\n",
       "    </tr>\n",
       "    <tr>\n",
       "      <th>3</th>\n",
       "      <td>4.6</td>\n",
       "      <td>3.1</td>\n",
       "      <td>1.5</td>\n",
       "      <td>0.2</td>\n",
       "      <td>setosa</td>\n",
       "    </tr>\n",
       "    <tr>\n",
       "      <th>4</th>\n",
       "      <td>5.0</td>\n",
       "      <td>3.6</td>\n",
       "      <td>1.4</td>\n",
       "      <td>0.2</td>\n",
       "      <td>setosa</td>\n",
       "    </tr>\n",
       "  </tbody>\n",
       "</table>\n",
       "</div>"
      ],
      "text/plain": [
       "   sepal_length  sepal_width  petal_length  petal_width species\n",
       "0           5.1          3.5           1.4          0.2  setosa\n",
       "1           4.9          3.0           1.4          0.2  setosa\n",
       "2           4.7          3.2           1.3          0.2  setosa\n",
       "3           4.6          3.1           1.5          0.2  setosa\n",
       "4           5.0          3.6           1.4          0.2  setosa"
      ]
     },
     "execution_count": 299,
     "metadata": {},
     "output_type": "execute_result"
    }
   ],
   "source": [
    "dados.head(5)"
   ]
  },
  {
   "cell_type": "code",
   "execution_count": 300,
   "id": "f8631f07",
   "metadata": {
    "ExecuteTime": {
     "end_time": "2022-05-20T15:17:38.435144Z",
     "start_time": "2022-05-20T15:17:38.376602Z"
    }
   },
   "outputs": [],
   "source": [
    "x = dados['sepal_length']\n",
    "\n",
    "y = dados['sepal_width']"
   ]
  },
  {
   "cell_type": "code",
   "execution_count": 301,
   "id": "5e26caba",
   "metadata": {
    "ExecuteTime": {
     "end_time": "2022-05-20T15:17:38.817799Z",
     "start_time": "2022-05-20T15:17:38.437944Z"
    },
    "hide_input": false,
    "scrolled": true
   },
   "outputs": [
    {
     "data": {
      "image/png": "[encoded data removed]",
      "text/plain": [
       "<Figure size 432x288 with 1 Axes>"
      ]
     },
     "metadata": {},
     "output_type": "display_data"
    }
   ],
   "source": [
    "plt.scatter( x, y);\n",
    "plt.xlabel('sepal length', size = 15);\n",
    "plt.ylabel('sepal width', size = 15);\n",
    "\n",
    "plt.plot( np.mean(x), np.mean(y), 'o-r' );\n",
    "plt.plot( np.median(x), np.median(y), 'o-c' );\n",
    "plt.plot( x.mode(), y.mode(), 'o-y' );"
   ]
  },
  {
   "cell_type": "code",
   "execution_count": 302,
   "id": "8b949d89",
   "metadata": {
    "ExecuteTime": {
     "end_time": "2022-05-20T15:17:38.833793Z",
     "start_time": "2022-05-20T15:17:38.820797Z"
    }
   },
   "outputs": [],
   "source": [
    "x2 = dados['petal_length']\n",
    "\n",
    "y2 = dados['petal_width']"
   ]
  },
  {
   "cell_type": "code",
   "execution_count": 303,
   "id": "22288b47",
   "metadata": {
    "ExecuteTime": {
     "end_time": "2022-05-20T15:17:39.184345Z",
     "start_time": "2022-05-20T15:17:38.836784Z"
    }
   },
   "outputs": [
    {
     "data": {
      "image/png": "[encoded data removed]",
      "text/plain": [
       "<Figure size 432x288 with 1 Axes>"
      ]
     },
     "metadata": {},
     "output_type": "display_data"
    }
   ],
   "source": [
    "plt.scatter( x2, y2);\n",
    "plt.xlabel('petal_length', size = 15);\n",
    "plt.ylabel('petal_width', size = 15);\n",
    "\n",
    "plt.plot( np.mean(x2), np.mean(y2), 'o-r' );\n",
    "plt.plot( np.median(x2), np.median(y2), 'o-c' );\n",
    "\n",
    "#plt.plot( x2.mode(), y2.mode(), 'o-y' );"
   ]
  },
  {
   "cell_type": "markdown",
   "id": "f07f9379",
   "metadata": {},
   "source": [
    "# 5.0. MEDIDAS DE DISPERSÃO"
   ]
  },
  {
   "cell_type": "markdown",
   "id": "cb3aa777",
   "metadata": {},
   "source": [
    "## 5.1. Amplitude total "
   ]
  },
  {
   "cell_type": "code",
   "execution_count": 304,
   "id": "65604bc6",
   "metadata": {
    "ExecuteTime": {
     "end_time": "2022-05-20T15:17:39.200329Z",
     "start_time": "2022-05-20T15:17:39.187336Z"
    }
   },
   "outputs": [
    {
     "data": {
      "text/plain": [
       "sepal_length          7.9\n",
       "sepal_width           4.4\n",
       "petal_length          6.9\n",
       "petal_width           2.5\n",
       "species         virginica\n",
       "dtype: object"
      ]
     },
     "execution_count": 304,
     "metadata": {},
     "output_type": "execute_result"
    }
   ],
   "source": [
    "dados.max()"
   ]
  },
  {
   "cell_type": "code",
   "execution_count": 305,
   "id": "320636cf",
   "metadata": {
    "ExecuteTime": {
     "end_time": "2022-05-20T15:17:39.295673Z",
     "start_time": "2022-05-20T15:17:39.203325Z"
    },
    "scrolled": true
   },
   "outputs": [
    {
     "data": {
      "text/plain": [
       "sepal_length       4.3\n",
       "sepal_width        2.0\n",
       "petal_length       1.0\n",
       "petal_width        0.1\n",
       "species         setosa\n",
       "dtype: object"
      ]
     },
     "execution_count": 305,
     "metadata": {},
     "output_type": "execute_result"
    }
   ],
   "source": [
    "dados.min()"
   ]
  },
  {
   "cell_type": "code",
   "execution_count": 306,
   "id": "46966306",
   "metadata": {
    "ExecuteTime": {
     "end_time": "2022-05-20T15:17:39.374635Z",
     "start_time": "2022-05-20T15:17:39.299672Z"
    }
   },
   "outputs": [
    {
     "data": {
      "text/plain": [
       "sepal_length    7.9\n",
       "sepal_width     4.4\n",
       "petal_length    6.9\n",
       "petal_width     2.5\n",
       "dtype: float64"
      ]
     },
     "execution_count": 306,
     "metadata": {},
     "output_type": "execute_result"
    }
   ],
   "source": [
    "dados.iloc[:, 0:4].max()"
   ]
  },
  {
   "cell_type": "code",
   "execution_count": 307,
   "id": "befc503c",
   "metadata": {
    "ExecuteTime": {
     "end_time": "2022-05-20T15:17:39.472285Z",
     "start_time": "2022-05-20T15:17:39.377633Z"
    }
   },
   "outputs": [
    {
     "data": {
      "text/plain": [
       "sepal_length    3.6\n",
       "sepal_width     2.4\n",
       "petal_length    5.9\n",
       "petal_width     2.4\n",
       "dtype: float64"
      ]
     },
     "execution_count": 307,
     "metadata": {},
     "output_type": "execute_result"
    }
   ],
   "source": [
    "amplitude_total = dados.iloc[:, 0:4].max() - dados.iloc[:, 0:4].min()\n",
    "amplitude_total"
   ]
  },
  {
   "cell_type": "markdown",
   "id": "10a8ebc8",
   "metadata": {},
   "source": [
    "## 5.2. Amplitude interquartílica"
   ]
  },
  {
   "cell_type": "code",
   "execution_count": 308,
   "id": "23fcfceb",
   "metadata": {
    "ExecuteTime": {
     "end_time": "2022-05-20T15:17:39.567733Z",
     "start_time": "2022-05-20T15:17:39.476291Z"
    }
   },
   "outputs": [
    {
     "data": {
      "text/plain": [
       "6.4"
      ]
     },
     "execution_count": 308,
     "metadata": {},
     "output_type": "execute_result"
    }
   ],
   "source": [
    "dados['sepal_length'].quantile(0.75)"
   ]
  },
  {
   "cell_type": "code",
   "execution_count": 309,
   "id": "58a8a272",
   "metadata": {
    "ExecuteTime": {
     "end_time": "2022-05-20T15:17:39.807225Z",
     "start_time": "2022-05-20T15:17:39.731557Z"
    },
    "scrolled": true
   },
   "outputs": [
    {
     "data": {
      "text/plain": [
       "6.4"
      ]
     },
     "execution_count": 309,
     "metadata": {},
     "output_type": "execute_result"
    }
   ],
   "source": [
    "q3 = dados['sepal_length'].quantile(0.75)\n",
    "q3"
   ]
  },
  {
   "cell_type": "code",
   "execution_count": 310,
   "id": "4545407b",
   "metadata": {
    "ExecuteTime": {
     "end_time": "2022-05-20T15:17:39.807225Z",
     "start_time": "2022-05-20T15:17:39.731557Z"
    }
   },
   "outputs": [
    {
     "data": {
      "text/plain": [
       "5.8"
      ]
     },
     "execution_count": 310,
     "metadata": {},
     "output_type": "execute_result"
    }
   ],
   "source": [
    "q2 = dados['sepal_length'].quantile(0.50)\n",
    "q2"
   ]
  },
  {
   "cell_type": "code",
   "execution_count": 311,
   "id": "943a92d3",
   "metadata": {
    "ExecuteTime": {
     "end_time": "2022-05-20T15:17:39.807225Z",
     "start_time": "2022-05-20T15:17:39.731557Z"
    }
   },
   "outputs": [
    {
     "data": {
      "text/plain": [
       "5.1"
      ]
     },
     "execution_count": 311,
     "metadata": {},
     "output_type": "execute_result"
    }
   ],
   "source": [
    "q1 = dados['sepal_length'].quantile(0.25)\n",
    "q1 "
   ]
  },
  {
   "cell_type": "code",
   "execution_count": 312,
   "id": "e0a12a1b",
   "metadata": {
    "ExecuteTime": {
     "end_time": "2022-05-20T15:17:39.884679Z",
     "start_time": "2022-05-20T15:17:39.810156Z"
    }
   },
   "outputs": [
    {
     "data": {
      "text/plain": [
       "1.3000000000000007"
      ]
     },
     "execution_count": 312,
     "metadata": {},
     "output_type": "execute_result"
    }
   ],
   "source": [
    "dispersao_quartilica = q3 - q1\n",
    "\n",
    "dispersao_quartilica"
   ]
  },
  {
   "cell_type": "code",
   "execution_count": 313,
   "id": "e3c0de07",
   "metadata": {
    "ExecuteTime": {
     "end_time": "2022-05-20T15:17:39.993559Z",
     "start_time": "2022-05-20T15:17:39.887676Z"
    },
    "scrolled": true
   },
   "outputs": [
    {
     "data": {
      "text/plain": [
       "sepal_length    1.3\n",
       "sepal_width     0.5\n",
       "petal_length    3.5\n",
       "petal_width     1.5\n",
       "dtype: float64"
      ]
     },
     "execution_count": 313,
     "metadata": {},
     "output_type": "execute_result"
    }
   ],
   "source": [
    "# ou...\n",
    "\n",
    "dq = dados.quantile(0.75) - dados.quantile(0.25)\n",
    "\n",
    "dq"
   ]
  },
  {
   "cell_type": "markdown",
   "id": "cdbb6e68",
   "metadata": {},
   "source": [
    "## 5.3. Desvio médio absoluto"
   ]
  },
  {
   "cell_type": "code",
   "execution_count": 314,
   "id": "010136d5",
   "metadata": {
    "ExecuteTime": {
     "end_time": "2022-05-20T15:17:40.093041Z",
     "start_time": "2022-05-20T15:17:39.996942Z"
    }
   },
   "outputs": [
    {
     "data": {
      "text/plain": [
       "sepal_length    0.687556\n",
       "sepal_width     0.336782\n",
       "petal_length    1.562747\n",
       "petal_width     0.658133\n",
       "dtype: float64"
      ]
     },
     "execution_count": 314,
     "metadata": {},
     "output_type": "execute_result"
    }
   ],
   "source": [
    "desvio_med_abs = dados.mad()\n",
    "desvio_med_abs"
   ]
  },
  {
   "cell_type": "markdown",
   "id": "5f072be8",
   "metadata": {},
   "source": [
    "## 5.4. Desvio padrão e variância"
   ]
  },
  {
   "cell_type": "code",
   "execution_count": 315,
   "id": "691ba690",
   "metadata": {
    "ExecuteTime": {
     "end_time": "2022-05-20T15:17:40.280418Z",
     "start_time": "2022-05-20T15:17:40.099039Z"
    }
   },
   "outputs": [
    {
     "data": {
      "text/plain": [
       "sepal_length    0.681122\n",
       "sepal_width     0.188713\n",
       "petal_length    3.095503\n",
       "petal_width     0.577133\n",
       "dtype: float64"
      ]
     },
     "execution_count": 315,
     "metadata": {},
     "output_type": "execute_result"
    }
   ],
   "source": [
    "variancia_desv_padrao = np.var(dados.iloc[:, 0:4])\n",
    "variancia_desv_padrao"
   ]
  },
  {
   "cell_type": "markdown",
   "id": "5370c858",
   "metadata": {
    "ExecuteTime": {
     "end_time": "2022-05-20T14:32:35.162944Z",
     "start_time": "2022-05-20T14:32:35.108980Z"
    }
   },
   "source": [
    "## 5.5. Desvio padrão "
   ]
  },
  {
   "cell_type": "code",
   "execution_count": 316,
   "id": "2394e8a9",
   "metadata": {
    "ExecuteTime": {
     "end_time": "2022-05-20T15:17:40.374284Z",
     "start_time": "2022-05-20T15:17:40.284426Z"
    }
   },
   "outputs": [
    {
     "data": {
      "text/plain": [
       "sepal_length    0.825301\n",
       "sepal_width     0.434411\n",
       "petal_length    1.759404\n",
       "petal_width     0.759693\n",
       "dtype: float64"
      ]
     },
     "execution_count": 316,
     "metadata": {},
     "output_type": "execute_result"
    }
   ],
   "source": [
    "desvio_padrao = np.std(dados.iloc[:, 0:4])\n",
    "desvio_padrao"
   ]
  },
  {
   "cell_type": "markdown",
   "id": "9cdd5adc",
   "metadata": {},
   "source": [
    "## 5.6. Cálculo do coeficiente de variação"
   ]
  },
  {
   "cell_type": "code",
   "execution_count": 472,
   "id": "c4af9342",
   "metadata": {
    "ExecuteTime": {
     "end_time": "2022-05-20T16:30:50.227655Z",
     "start_time": "2022-05-20T16:30:50.208663Z"
    }
   },
   "outputs": [
    {
     "data": {
      "text/plain": [
       "sepal_length    14.171126\n",
       "sepal_width     14.256420\n",
       "petal_length    46.974407\n",
       "petal_width     63.555114\n",
       "dtype: float64"
      ]
     },
     "execution_count": 472,
     "metadata": {},
     "output_type": "execute_result"
    }
   ],
   "source": [
    "coe_variacao = dados.iloc[:, 0 : 4].std() / dados.iloc[:, 0 : 4].mean() * 100\n",
    "coe_variacao"
   ]
  },
  {
   "cell_type": "markdown",
   "id": "ba36440b",
   "metadata": {},
   "source": [
    "# 6.0. MEDIDAS DE ASSIMETRIA"
   ]
  },
  {
   "cell_type": "markdown",
   "id": "63b74986",
   "metadata": {},
   "source": [
    "## 6.1. Boxplot"
   ]
  },
  {
   "cell_type": "code",
   "execution_count": 318,
   "id": "fc123e90",
   "metadata": {
    "ExecuteTime": {
     "end_time": "2022-05-20T15:17:40.807386Z",
     "start_time": "2022-05-20T15:17:40.490264Z"
    },
    "scrolled": true
   },
   "outputs": [
    {
     "data": {
      "image/png": "[encoded data removed]",
      "text/plain": [
       "<Figure size 432x288 with 1 Axes>"
      ]
     },
     "metadata": {},
     "output_type": "display_data"
    }
   ],
   "source": [
    "sns.boxplot(data = dados);\n",
    "sns.set(style = 'whitegrid');"
   ]
  },
  {
   "cell_type": "code",
   "execution_count": 333,
   "id": "aed54ac7",
   "metadata": {
    "ExecuteTime": {
     "end_time": "2022-05-20T15:27:31.563502Z",
     "start_time": "2022-05-20T15:27:31.379619Z"
    },
    "scrolled": false
   },
   "outputs": [
    {
     "data": {
      "image/png": "[encoded data removed]",
      "text/plain": [
       "<Figure size 432x288 with 1 Axes>"
      ]
     },
     "metadata": {},
     "output_type": "display_data"
    }
   ],
   "source": [
    "sns.boxplot(data = dados['sepal_length'], color='springgreen');"
   ]
  },
  {
   "cell_type": "code",
   "execution_count": 332,
   "id": "e87818f8",
   "metadata": {
    "ExecuteTime": {
     "end_time": "2022-05-20T15:25:21.886434Z",
     "start_time": "2022-05-20T15:25:21.690517Z"
    },
    "scrolled": false
   },
   "outputs": [
    {
     "data": {
      "image/png": "[encoded data removed]",
      "text/plain": [
       "<Figure size 432x288 with 1 Axes>"
      ]
     },
     "metadata": {},
     "output_type": "display_data"
    }
   ],
   "source": [
    "sns.boxplot(data = dados['petal_length'], color='deeppink');\n"
   ]
  }
 ],
 "metadata": {
  "kernelspec": {
   "display_name": "Python 3 (ipykernel)",
   "language": "python",
   "name": "python3"
  },
  "language_info": {
   "codemirror_mode": {
    "name": "ipython",
    "version": 3
   },
   "file_extension": ".py",
   "mimetype": "text/x-python",
   "name": "python",
   "nbconvert_exporter": "python",
   "pygments_lexer": "ipython3",
   "version": "3.9.12"
  }
 },
 "nbformat": 4,
 "nbformat_minor": 5
}
