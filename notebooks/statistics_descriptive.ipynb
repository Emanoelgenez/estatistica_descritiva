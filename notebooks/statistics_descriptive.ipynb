{
 "cells": [
  {
   "cell_type": "markdown",
   "id": "d6c5b336",
   "metadata": {
    "heading_collapsed": true
   },
   "source": [
    "# 0.0. IMPORTS"
   ]
  },
  {
   "cell_type": "code",
   "execution_count": 46,
   "id": "e6eeb6f8",
   "metadata": {
    "ExecuteTime": {
     "end_time": "2022-05-19T23:19:41.572671Z",
     "start_time": "2022-05-19T23:19:41.557683Z"
    },
    "hidden": true
   },
   "outputs": [],
   "source": [
    "import pandas as pd\n",
    "import numpy as np\n",
    "import math \n",
    "import matplotlib.pyplot as plt\n",
    "import seaborn as sns\n",
    "import scipy\n",
    "import random \n",
    "\n",
    "from  math import sqrt, cos, log10"
   ]
  },
  {
   "cell_type": "markdown",
   "id": "87043759",
   "metadata": {
    "heading_collapsed": true
   },
   "source": [
    "# 1.0. OBTENÇÃO DE AMOSTRAS"
   ]
  },
  {
   "cell_type": "code",
   "execution_count": 17,
   "id": "88ec726f",
   "metadata": {
    "ExecuteTime": {
     "end_time": "2022-05-19T22:43:46.589596Z",
     "start_time": "2022-05-19T22:43:46.579604Z"
    },
    "hidden": true
   },
   "outputs": [],
   "source": [
    "random.seed(77)"
   ]
  },
  {
   "cell_type": "code",
   "execution_count": 18,
   "id": "a7ca957c",
   "metadata": {
    "ExecuteTime": {
     "end_time": "2022-05-19T22:43:46.876603Z",
     "start_time": "2022-05-19T22:43:46.867603Z"
    },
    "hidden": true
   },
   "outputs": [],
   "source": [
    "X = []\n",
    "for i in range(100):\n",
    "    X.append(random.random())"
   ]
  },
  {
   "cell_type": "code",
   "execution_count": 19,
   "id": "5b0d6d95",
   "metadata": {
    "ExecuteTime": {
     "end_time": "2022-05-19T22:43:47.227455Z",
     "start_time": "2022-05-19T22:43:47.210465Z"
    },
    "hidden": true
   },
   "outputs": [
    {
     "data": {
      "text/plain": [
       "100"
      ]
     },
     "execution_count": 19,
     "metadata": {},
     "output_type": "execute_result"
    }
   ],
   "source": [
    "len(X)"
   ]
  },
  {
   "cell_type": "code",
   "execution_count": 20,
   "id": "7309cfd9",
   "metadata": {
    "ExecuteTime": {
     "end_time": "2022-05-19T22:43:48.013491Z",
     "start_time": "2022-05-19T22:43:47.994503Z"
    },
    "collapsed": true,
    "hidden": true
   },
   "outputs": [
    {
     "data": {
      "text/plain": [
       "[0.799115369116727,\n",
       " 0.3259061440625364,\n",
       " 0.24049351508267347,\n",
       " 0.8225558693681814,\n",
       " 0.11506253698710345,\n",
       " 0.47623677516761054,\n",
       " 0.5578947290755706,\n",
       " 0.6113330665067622,\n",
       " 0.14547146525897703,\n",
       " 0.6306505848550839,\n",
       " 0.5006197765650313,\n",
       " 0.8511188349123333,\n",
       " 0.028351246084461268,\n",
       " 0.9571759290780877,\n",
       " 0.1726798474225294,\n",
       " 0.8133552610220813,\n",
       " 0.5073148980567306,\n",
       " 0.8356936602931708,\n",
       " 0.1828740263841231,\n",
       " 0.3214822718300542,\n",
       " 0.08718235456189227,\n",
       " 0.7787191738214644,\n",
       " 0.5339682658736723,\n",
       " 0.20497627724407863,\n",
       " 0.19168793463619915,\n",
       " 0.08094897006000101,\n",
       " 0.20013196540795586,\n",
       " 0.5601041831161951,\n",
       " 0.4376409768709594,\n",
       " 0.7042609642352532,\n",
       " 0.07629881128552962,\n",
       " 0.8394868657097555,\n",
       " 0.982084301914239,\n",
       " 0.7396986127796542,\n",
       " 0.7431335995262573,\n",
       " 0.8497443056685156,\n",
       " 0.0949241263932682,\n",
       " 0.46123843511463514,\n",
       " 0.07933112916991791,\n",
       " 0.7815682648434296,\n",
       " 0.5379738060626819,\n",
       " 0.10647656971159392,\n",
       " 0.4447582783331656,\n",
       " 0.7768417814353804,\n",
       " 0.5520540101467354,\n",
       " 0.1214800354198623,\n",
       " 0.9368528241643513,\n",
       " 0.05639373383065638,\n",
       " 0.8431055975837366,\n",
       " 0.974019433588326,\n",
       " 0.7510581879505287,\n",
       " 0.9458668873130683,\n",
       " 0.5309684295043741,\n",
       " 0.2191591976036381,\n",
       " 0.47228887977185796,\n",
       " 0.7381494800622979,\n",
       " 0.7685107946683193,\n",
       " 0.3843279854416285,\n",
       " 0.9472422300639076,\n",
       " 0.03509698102051417,\n",
       " 0.4958123239313884,\n",
       " 0.03945724476752266,\n",
       " 0.35805169314263297,\n",
       " 0.9893004851997331,\n",
       " 0.11789769125014105,\n",
       " 0.9856271632314807,\n",
       " 0.9051184100122714,\n",
       " 0.6882735452717139,\n",
       " 0.05595610030481124,\n",
       " 0.4715169431462619,\n",
       " 0.6919553403147952,\n",
       " 0.09519153943218128,\n",
       " 0.2982350627420489,\n",
       " 0.09182496381677496,\n",
       " 0.8435058331900915,\n",
       " 0.9152597364257982,\n",
       " 0.9236631901211892,\n",
       " 0.7507602081856001,\n",
       " 0.5755833759956874,\n",
       " 0.06219824995186363,\n",
       " 0.48142327477362035,\n",
       " 0.7606285574189204,\n",
       " 0.7559730477993379,\n",
       " 0.026727152623234107,\n",
       " 0.008207933902039222,\n",
       " 0.08816663672445091,\n",
       " 0.924340810375399,\n",
       " 0.11345562237543294,\n",
       " 0.39025861005827334,\n",
       " 0.4759011648827176,\n",
       " 0.8837580744565566,\n",
       " 0.13562477558387565,\n",
       " 0.2615277633810975,\n",
       " 0.7719283687891144,\n",
       " 0.08595907808485559,\n",
       " 0.16424874327448946,\n",
       " 0.025094479698843153,\n",
       " 0.958254306519411,\n",
       " 0.23334754757894904,\n",
       " 0.5015116465808369]"
      ]
     },
     "execution_count": 20,
     "metadata": {},
     "output_type": "execute_result"
    }
   ],
   "source": [
    "X"
   ]
  },
  {
   "cell_type": "code",
   "execution_count": 22,
   "id": "10f3b454",
   "metadata": {
    "ExecuteTime": {
     "end_time": "2022-05-19T22:45:27.301770Z",
     "start_time": "2022-05-19T22:45:27.275782Z"
    },
    "hidden": true
   },
   "outputs": [
    {
     "data": {
      "text/plain": [
       "['Lucas', 'Marcos', 'Thiago', 'Roberto', 'Bianca', 'Erika']"
      ]
     },
     "execution_count": 22,
     "metadata": {},
     "output_type": "execute_result"
    }
   ],
   "source": [
    "nomes = ['Lucas', 'Marcos', 'Thiago', 'Roberto', 'Bianca', 'Erika']\n",
    "\n",
    "nomes"
   ]
  },
  {
   "cell_type": "code",
   "execution_count": 23,
   "id": "96aef0a2",
   "metadata": {
    "ExecuteTime": {
     "end_time": "2022-05-19T22:46:00.064961Z",
     "start_time": "2022-05-19T22:46:00.047972Z"
    },
    "hidden": true
   },
   "outputs": [
    {
     "data": {
      "text/plain": [
       "'Roberto'"
      ]
     },
     "execution_count": 23,
     "metadata": {},
     "output_type": "execute_result"
    }
   ],
   "source": [
    "random.choice(nomes)"
   ]
  },
  {
   "cell_type": "code",
   "execution_count": 25,
   "id": "f8094b4a",
   "metadata": {
    "ExecuteTime": {
     "end_time": "2022-05-19T22:47:33.451169Z",
     "start_time": "2022-05-19T22:47:33.434179Z"
    },
    "hidden": true
   },
   "outputs": [
    {
     "data": {
      "text/plain": [
       "['Bianca', 'Erika', 'Roberto']"
      ]
     },
     "execution_count": 25,
     "metadata": {},
     "output_type": "execute_result"
    }
   ],
   "source": [
    "random.sample(nomes, 3)"
   ]
  },
  {
   "cell_type": "markdown",
   "id": "4cfe1e7f",
   "metadata": {},
   "source": [
    "# 2.0. GRÁFICOS"
   ]
  },
  {
   "cell_type": "markdown",
   "id": "2763d81f",
   "metadata": {
    "heading_collapsed": true
   },
   "source": [
    "## 2.1. Gráfico de barras horizontais"
   ]
  },
  {
   "cell_type": "code",
   "execution_count": 26,
   "id": "6601216b",
   "metadata": {
    "ExecuteTime": {
     "end_time": "2022-05-19T23:07:54.150908Z",
     "start_time": "2022-05-19T23:07:54.136915Z"
    },
    "hidden": true
   },
   "outputs": [],
   "source": [
    "y = [ 2, 5, 2, 7, 5, 1 ]\n",
    "\n",
    "\n",
    "x = [ 'N1', 'N2', 'N3', 'N4', 'N5', 'N6' ]\n",
    "\n",
    "x2 = [ 'variável um', 'variável dois', 'variável três', \n",
    "      'variável quatro', 'variável cinco', 'variável seis' ] "
   ]
  },
  {
   "cell_type": "code",
   "execution_count": 42,
   "id": "3a536199",
   "metadata": {
    "ExecuteTime": {
     "end_time": "2022-05-19T23:14:19.255991Z",
     "start_time": "2022-05-19T23:14:19.028830Z"
    },
    "hidden": true,
    "scrolled": true
   },
   "outputs": [
    {
     "data": {
      "image/png": "[encoded data removed]",
      "text/plain": [
       "<Figure size 432x288 with 1 Axes>"
      ]
     },
     "metadata": {
      "needs_background": "light"
     },
     "output_type": "display_data"
    }
   ],
   "source": [
    "plt.barh(x2, y, color = 'g');\n",
    "plt.xlabel('variável eixo X', size = 15);\n",
    "plt.ylabel('variável eixo Y', size = 15);\n",
    "plt.title('Título do meu gráfico');"
   ]
  },
  {
   "cell_type": "markdown",
   "id": "33d63690",
   "metadata": {
    "heading_collapsed": true
   },
   "source": [
    "## 2.2. Gráfico de barras verticais"
   ]
  },
  {
   "cell_type": "code",
   "execution_count": 45,
   "id": "c616601c",
   "metadata": {
    "ExecuteTime": {
     "end_time": "2022-05-19T23:17:00.454830Z",
     "start_time": "2022-05-19T23:17:00.270559Z"
    },
    "hidden": true
   },
   "outputs": [
    {
     "data": {
      "image/png": "[encoded data removed]",
      "text/plain": [
       "<Figure size 432x288 with 1 Axes>"
      ]
     },
     "metadata": {
      "needs_background": "light"
     },
     "output_type": "display_data"
    }
   ],
   "source": [
    "plt.bar(x, y, color = 'y');"
   ]
  },
  {
   "cell_type": "markdown",
   "id": "5b3124ba",
   "metadata": {
    "heading_collapsed": true
   },
   "source": [
    "## 2.3. Gráfico de pizza"
   ]
  },
  {
   "cell_type": "code",
   "execution_count": 54,
   "id": "4d54b2c5",
   "metadata": {
    "ExecuteTime": {
     "end_time": "2022-05-19T23:30:20.292048Z",
     "start_time": "2022-05-19T23:30:20.279055Z"
    },
    "hidden": true
   },
   "outputs": [],
   "source": [
    "y = [ 2, 5, 2, 7, 5, 1 ]\n",
    "\n",
    "\n",
    "x = [ 'N1', 'N2', 'N3', 'N4', 'N5', 'N6' ]\n",
    "\n",
    "x2 = [ 'variável um', 'variável dois', 'variável três', \n",
    "      'variável quatro', 'variável cinco', 'variável seis' ]"
   ]
  },
  {
   "cell_type": "code",
   "execution_count": 62,
   "id": "20207d77",
   "metadata": {
    "ExecuteTime": {
     "end_time": "2022-05-19T23:33:13.764425Z",
     "start_time": "2022-05-19T23:33:13.569542Z"
    },
    "hidden": true
   },
   "outputs": [
    {
     "data": {
      "image/png": "[encoded data removed]",
      "text/plain": [
       "<Figure size 432x288 with 1 Axes>"
      ]
     },
     "metadata": {},
     "output_type": "display_data"
    }
   ],
   "source": [
    "plt.pie(y, labels = x, radius = 2);"
   ]
  },
  {
   "cell_type": "markdown",
   "id": "1b4d7422",
   "metadata": {
    "heading_collapsed": true
   },
   "source": [
    "## 2.4. Gráfico de linhas"
   ]
  },
  {
   "cell_type": "code",
   "execution_count": 63,
   "id": "d0f73edd",
   "metadata": {
    "ExecuteTime": {
     "end_time": "2022-05-19T23:37:04.769171Z",
     "start_time": "2022-05-19T23:37:04.760176Z"
    },
    "hidden": true
   },
   "outputs": [],
   "source": [
    "y = [ 6, 8, 3, 1, 9 ]\n",
    "\n",
    "x1 = [ 1, 2, 3, 4, 5 ]\n",
    "\n",
    "x = [ 'seg', 'ter', 'qua', 'qui', 'sex' ]"
   ]
  },
  {
   "cell_type": "code",
   "execution_count": 69,
   "id": "74bebe42",
   "metadata": {
    "ExecuteTime": {
     "end_time": "2022-05-19T23:40:58.242532Z",
     "start_time": "2022-05-19T23:40:57.918727Z"
    },
    "hidden": true
   },
   "outputs": [
    {
     "data": {
      "image/png": "[encoded data removed]",
      "text/plain": [
       "<Figure size 432x288 with 1 Axes>"
      ]
     },
     "metadata": {
      "needs_background": "light"
     },
     "output_type": "display_data"
    }
   ],
   "source": [
    "plt.plot( x1, y, 'o-g');\n",
    "plt.xlabel('eixo X', size = 15);\n",
    "plt.ylabel('eixo Y', size = 15);\n",
    "plt.title('Título do meu gráfico');"
   ]
  },
  {
   "cell_type": "code",
   "execution_count": 71,
   "id": "de4f1bc8",
   "metadata": {
    "ExecuteTime": {
     "end_time": "2022-05-19T23:42:01.306068Z",
     "start_time": "2022-05-19T23:42:01.052223Z"
    },
    "hidden": true
   },
   "outputs": [
    {
     "data": {
      "image/png": "[encoded data removed]",
      "text/plain": [
       "<Figure size 432x288 with 1 Axes>"
      ]
     },
     "metadata": {
      "needs_background": "light"
     },
     "output_type": "display_data"
    }
   ],
   "source": [
    "plt.plot( x, y, 'o-');\n",
    "plt.xlabel('eixo X', size = 15);\n",
    "plt.ylabel('eixo Y', size = 15);\n",
    "plt.title('Título do meu gráfico');"
   ]
  },
  {
   "cell_type": "markdown",
   "id": "2e0d7a20",
   "metadata": {
    "ExecuteTime": {
     "end_time": "2022-05-19T23:42:42.240504Z",
     "start_time": "2022-05-19T23:42:42.214521Z"
    },
    "heading_collapsed": true
   },
   "source": [
    "## 2.5. Gráfico de histogramas"
   ]
  },
  {
   "cell_type": "code",
   "execution_count": 84,
   "id": "e31ad793",
   "metadata": {
    "ExecuteTime": {
     "end_time": "2022-05-19T23:50:39.783226Z",
     "start_time": "2022-05-19T23:50:39.740248Z"
    },
    "collapsed": true,
    "hidden": true
   },
   "outputs": [
    {
     "data": {
      "text/plain": [
       "array([6.63943016e-01, 5.33151293e-01, 2.08278749e-01, 6.63263363e-02,\n",
       "       1.50913764e-01, 6.62407277e-01, 2.67355063e-01, 4.91431258e-01,\n",
       "       7.56050618e-01, 7.90917544e-01, 9.63061777e-01, 2.43294057e-01,\n",
       "       4.00692272e-01, 7.32240936e-01, 9.91482645e-03, 6.91437636e-01,\n",
       "       8.18372943e-01, 7.27067796e-01, 3.32304973e-01, 3.79401309e-01,\n",
       "       8.06578074e-01, 4.72419033e-01, 7.20299427e-01, 1.93548083e-01,\n",
       "       3.18037090e-01, 6.68634450e-01, 4.02814601e-01, 9.65739018e-01,\n",
       "       6.07878831e-01, 3.39099555e-01, 5.10942817e-01, 7.49853608e-01,\n",
       "       2.73046935e-01, 8.75236882e-01, 7.72133291e-01, 6.55026048e-02,\n",
       "       9.18804987e-01, 4.68676825e-01, 3.04134111e-01, 5.82058254e-01,\n",
       "       9.52296188e-01, 3.28538070e-01, 2.60680052e-01, 4.03467527e-01,\n",
       "       7.19194333e-01, 4.62344871e-01, 4.80889724e-01, 2.14909255e-01,\n",
       "       2.45586095e-01, 1.96907108e-01, 4.21651875e-01, 2.60421009e-01,\n",
       "       8.82845330e-01, 6.85059368e-01, 1.50970471e-01, 3.61742914e-01,\n",
       "       1.58454715e-01, 6.58562963e-02, 4.12461090e-01, 7.08540916e-01,\n",
       "       2.46927904e-01, 3.71468165e-01, 1.37391655e-01, 7.40190009e-01,\n",
       "       5.72625064e-01, 2.09010573e-02, 9.68848897e-01, 8.12773581e-01,\n",
       "       6.36395848e-01, 2.50820421e-01, 6.31870126e-01, 4.33167053e-01,\n",
       "       8.42162195e-01, 4.17929337e-01, 1.43795351e-01, 4.40072939e-02,\n",
       "       1.56107092e-01, 8.07551051e-01, 4.45071983e-01, 4.99343539e-01,\n",
       "       7.37358657e-01, 6.06531477e-01, 8.05514418e-01, 3.44332756e-01,\n",
       "       7.91501539e-01, 2.19914363e-01, 2.91233426e-01, 5.59200155e-01,\n",
       "       3.94367530e-01, 8.67741241e-01, 4.96790373e-01, 8.89298313e-01,\n",
       "       1.16103679e-01, 1.33921417e-01, 8.12834876e-01, 7.32133312e-01,\n",
       "       8.56155109e-01, 1.65100692e-01, 8.77269119e-01, 3.48672965e-01,\n",
       "       8.62575769e-01, 1.39547699e-01, 7.71462385e-02, 6.25411175e-01,\n",
       "       7.73530395e-01, 1.66641484e-01, 9.09330347e-02, 7.25781062e-01,\n",
       "       4.51106186e-04, 1.02814248e-02, 7.14524914e-01, 7.51885499e-01,\n",
       "       8.35622963e-01, 8.07067963e-01, 4.77684463e-01, 4.83799234e-01,\n",
       "       2.77599504e-01, 9.02366478e-01, 1.04392752e-01, 6.68034898e-01,\n",
       "       8.03253722e-02, 6.82819766e-01, 2.31375343e-01, 9.52291088e-01,\n",
       "       7.00257049e-01, 5.52176752e-01, 6.39054524e-02, 1.92110504e-01,\n",
       "       8.49580964e-01, 8.48613414e-02, 6.26384456e-01, 9.58501550e-01,\n",
       "       8.19870362e-02, 9.04877940e-01, 5.56324067e-01, 1.82266804e-01,\n",
       "       2.55968937e-01, 7.88205905e-02, 7.21505647e-01, 6.58558561e-01,\n",
       "       8.83019812e-01, 2.66456488e-01, 8.03469128e-02, 5.89584156e-01,\n",
       "       4.29642680e-02, 1.47457239e-01, 6.86287503e-02, 3.71046184e-01,\n",
       "       2.47721029e-01, 9.10583076e-01, 1.40578850e-01, 8.95176404e-01,\n",
       "       4.86026217e-01, 2.89453571e-01, 3.95840275e-01, 9.54019110e-01,\n",
       "       2.91461556e-03, 7.52045946e-01, 8.91016067e-01, 7.81812042e-01,\n",
       "       5.98421179e-01, 4.96742213e-01, 6.56038615e-02, 2.86221552e-01,\n",
       "       2.89645777e-01, 4.32171191e-02, 6.88686143e-01, 5.87633534e-01,\n",
       "       1.42787950e-01, 5.08413342e-01, 6.79543635e-01, 6.71122214e-01,\n",
       "       9.46007250e-01, 8.95453341e-01, 3.01298608e-01, 5.62980823e-01,\n",
       "       6.60977470e-01, 8.45455312e-01, 6.14629138e-01, 5.07611949e-01,\n",
       "       8.10388815e-01, 1.23012926e-01, 2.46831434e-01, 2.80110480e-01,\n",
       "       4.53306918e-01, 6.95406137e-01, 1.79904707e-01, 6.88518602e-01,\n",
       "       2.99456348e-01, 4.87718239e-01, 7.45493745e-01, 7.07465803e-01,\n",
       "       9.79564824e-01, 4.98887741e-01, 7.84692827e-01, 7.42669694e-01,\n",
       "       3.22572522e-01, 5.59435928e-01, 6.52619975e-01, 7.16742380e-01,\n",
       "       4.29769788e-01, 8.61876504e-01, 5.54279969e-01, 9.73467473e-01,\n",
       "       8.67613569e-01, 6.55210204e-01, 1.08621907e-01, 4.04307293e-01,\n",
       "       4.36281351e-01, 1.28434279e-01, 9.11315274e-01, 7.14694110e-01,\n",
       "       3.74291190e-01, 8.65762335e-01, 1.26525130e-01, 9.01607186e-02,\n",
       "       2.16327686e-01, 2.34039589e-02, 8.96007023e-01, 1.48579346e-01,\n",
       "       2.90177666e-01, 4.11917470e-01, 7.44014591e-01, 8.15185069e-01,\n",
       "       2.83620973e-01, 8.94922799e-01, 9.39004806e-01, 7.02728720e-01,\n",
       "       3.71921116e-01, 4.39264405e-01, 9.17113742e-01, 6.14940130e-01,\n",
       "       7.52292418e-01, 3.65388712e-01, 6.73985081e-01, 3.17044170e-01,\n",
       "       5.24949231e-01, 4.40725162e-01, 7.54633196e-01, 8.16353731e-01,\n",
       "       2.96133818e-01, 5.34859201e-01, 2.53430480e-01, 1.34826130e-01,\n",
       "       1.83483504e-01, 8.33883712e-01, 2.16908035e-01, 4.64912569e-01,\n",
       "       4.67891552e-01, 8.24752955e-01, 2.63460799e-01, 1.76534776e-01,\n",
       "       3.06456029e-01, 1.97571089e-01, 9.60464721e-01, 9.20964612e-01,\n",
       "       1.66243510e-01, 3.98776809e-01, 3.63075140e-01, 1.33041492e-01,\n",
       "       4.19844745e-01, 5.25805909e-01, 3.06606942e-01, 4.88264399e-02,\n",
       "       4.66302466e-01, 6.65543484e-01, 8.67197954e-01, 6.38674448e-01,\n",
       "       6.97090536e-01, 8.55948698e-01, 8.90378559e-01, 2.07678699e-01,\n",
       "       8.55041394e-01, 6.27651174e-01, 8.28088860e-01, 1.26288229e-01,\n",
       "       2.37446024e-01, 6.89916718e-01, 3.47503682e-01, 9.42670746e-01,\n",
       "       5.88558984e-01, 1.05859211e-02, 9.33989071e-01, 2.63975796e-01,\n",
       "       9.70320097e-01, 3.92207439e-01, 2.24927758e-01, 6.24407524e-01,\n",
       "       6.47992649e-01, 2.62320608e-01, 6.79927872e-01, 8.62073533e-01,\n",
       "       1.17653967e-01, 3.40082307e-02, 5.98772741e-01, 9.77641794e-01,\n",
       "       5.70361104e-02, 4.37408636e-01, 3.52650022e-01, 1.17266155e-01,\n",
       "       4.25721295e-01, 1.12627171e-01, 7.97787097e-01, 3.99924336e-01,\n",
       "       7.04431282e-01, 8.22273273e-01, 1.87503217e-01, 2.95811432e-01,\n",
       "       9.68624766e-01, 9.39922904e-01, 7.11545376e-01, 1.83227457e-01,\n",
       "       1.38762828e-02, 2.15656036e-02, 1.69014048e-01, 6.31402681e-01,\n",
       "       2.13631575e-01, 2.01945470e-01, 2.63690453e-01, 3.05879061e-01,\n",
       "       8.06323102e-01, 5.33595686e-01, 7.86040304e-01, 2.81593359e-01,\n",
       "       8.12291174e-01, 6.28541350e-01, 6.18624647e-01, 4.54370985e-02,\n",
       "       4.19406257e-01, 2.12429055e-01, 2.06505111e-01, 8.16223037e-01,\n",
       "       9.49660734e-01, 4.73670638e-01, 1.12574641e-01, 8.05486899e-01,\n",
       "       1.82960237e-01, 4.42456565e-01, 5.88841180e-01, 2.34776551e-01,\n",
       "       3.05635316e-01, 5.09000153e-01, 6.98854261e-01, 4.47909871e-01,\n",
       "       4.32167024e-01, 6.06128500e-01, 6.78115331e-01, 3.35023491e-01,\n",
       "       2.97722662e-01, 8.16896332e-01, 2.35772145e-01, 5.97197030e-01,\n",
       "       4.17410414e-01, 7.26684031e-01, 3.36912944e-01, 8.62559711e-01,\n",
       "       6.32802935e-01, 9.49835696e-01, 1.90097976e-01, 1.57500980e-01,\n",
       "       2.67895909e-01, 7.37271011e-01, 9.47540741e-01, 4.21628170e-01,\n",
       "       9.58095064e-02, 3.54788274e-01, 6.14486716e-01, 3.52319180e-01,\n",
       "       6.36582250e-03, 5.58815389e-01, 8.83352151e-01, 9.39155281e-01,\n",
       "       8.82626131e-01, 6.65713730e-01, 7.85543577e-01, 4.17981780e-01,\n",
       "       1.10141622e-01, 9.25380081e-01, 6.56844399e-01, 6.33429998e-02,\n",
       "       7.39084347e-01, 4.48305014e-01, 3.87451803e-02, 8.18751132e-01,\n",
       "       2.53312398e-01, 7.65905718e-01, 9.52886214e-01, 1.31750639e-01,\n",
       "       5.78647708e-01, 3.13544886e-01, 1.27254945e-03, 5.50846384e-01,\n",
       "       1.87836017e-01, 6.39490950e-01, 3.22577844e-01, 8.13533457e-01,\n",
       "       8.12189154e-01, 1.23540495e-01, 1.00154542e-01, 4.49021209e-01,\n",
       "       7.89437269e-01, 7.00199781e-03, 1.34122578e-01, 3.92382004e-01,\n",
       "       3.83800522e-01, 8.98576835e-01, 7.39633039e-01, 3.78668192e-01,\n",
       "       9.25757856e-01, 9.71079105e-01, 7.71761752e-01, 6.59891098e-01,\n",
       "       1.00245860e-01, 2.87474479e-01, 9.31837843e-01, 8.98936182e-01,\n",
       "       4.52880575e-01, 2.75194956e-02, 4.78092905e-01, 4.51514495e-01,\n",
       "       7.03781972e-01, 2.07376142e-01, 4.18541267e-01, 8.94541044e-01,\n",
       "       9.79104320e-02, 4.62468070e-01, 6.49270407e-01, 4.43273055e-01,\n",
       "       1.02768334e-01, 3.90689391e-02, 3.29960110e-02, 1.04836748e-01,\n",
       "       4.44953736e-02, 6.43972768e-01, 4.49176165e-01, 4.57195585e-01,\n",
       "       7.35160245e-01, 5.77110794e-01, 3.27821876e-01, 7.53165740e-01,\n",
       "       1.07731455e-01, 7.90151492e-01, 7.44122934e-01, 1.49282118e-01,\n",
       "       7.63571629e-01, 1.43582770e-01, 6.46921147e-01, 5.28741179e-01,\n",
       "       1.90730551e-02, 8.54725074e-01, 6.01319534e-01, 9.78826258e-01,\n",
       "       4.96481587e-01, 9.90023698e-01, 6.56289403e-01, 5.43693454e-01,\n",
       "       2.88034520e-01, 9.15813782e-01, 9.82495742e-01, 8.24444403e-01,\n",
       "       9.77398299e-01, 2.40672709e-01, 2.12288686e-01, 5.81603103e-01,\n",
       "       1.49620246e-01, 1.39270887e-01, 8.16531164e-02, 9.05128514e-01,\n",
       "       2.28687112e-01, 8.46941157e-01, 9.26571684e-02, 8.15106070e-01,\n",
       "       1.29034993e-01, 7.67809115e-01, 5.85490978e-01, 3.04397496e-02,\n",
       "       7.44491643e-01, 8.48031257e-01, 8.73500827e-01, 9.21337986e-01,\n",
       "       1.27292716e-01, 7.66278849e-01, 7.91694934e-01, 6.28602596e-01,\n",
       "       4.61269319e-01, 1.79744620e-01, 2.05883948e-01, 4.14016227e-01,\n",
       "       6.41096670e-01, 2.81594272e-01, 7.96784375e-01, 2.66114981e-01,\n",
       "       4.42071787e-01, 1.73658106e-01, 5.43356073e-02, 6.51466390e-01,\n",
       "       3.64664562e-01, 7.21989038e-01, 8.42138803e-01, 6.67310027e-01,\n",
       "       6.69048280e-01, 2.35895581e-02, 3.84634389e-01, 2.76020057e-01,\n",
       "       1.55504937e-01, 4.57505032e-01, 7.16070669e-01, 9.04976990e-01,\n",
       "       9.24790856e-01, 6.38831544e-01, 5.74784492e-01, 1.96129246e-01,\n",
       "       4.46716339e-01, 8.60600030e-01, 7.38564202e-01, 7.01592080e-01,\n",
       "       9.56970507e-01, 7.15490261e-01, 8.42858033e-01, 2.29424427e-01,\n",
       "       2.63530772e-01, 7.23186096e-01, 1.33964430e-01, 7.77826740e-01,\n",
       "       7.31383642e-01, 8.15469673e-02, 2.45887997e-01, 7.11147778e-01,\n",
       "       8.71426537e-01, 7.77903916e-01, 8.07187306e-01, 6.52553436e-01,\n",
       "       8.06832871e-01, 5.37526182e-01, 6.98507153e-02, 5.55673828e-01,\n",
       "       9.80907290e-01, 8.06032053e-01, 6.56052574e-01, 3.32040366e-02,\n",
       "       2.96447971e-01, 5.65040237e-02, 2.67676969e-01, 3.07601850e-01,\n",
       "       4.50149523e-01, 4.61899948e-01, 8.99280799e-01, 8.63417711e-01,\n",
       "       9.66109342e-01, 2.39425415e-01, 3.79314091e-01, 2.07724514e-02,\n",
       "       5.01179288e-01, 9.45049322e-02, 8.90521365e-01, 7.25128458e-01,\n",
       "       7.03764690e-01, 6.02322162e-01, 3.66350430e-01, 3.29457355e-01,\n",
       "       9.24876403e-02, 4.42665985e-01, 2.16717975e-01, 7.306"
      ]
     },
     "execution_count": 84,
     "metadata": {},
     "output_type": "execute_result"
    },
    {
     "data": {
      "text/html": [
       "<b>limit_output extension: Maximum message size of 10000 exceeded with 17750 characters</b>"
      ]
     },
     "metadata": {},
     "output_type": "display_data"
    }
   ],
   "source": [
    "x = np.random.rand(1000)\n",
    "\n",
    "x"
   ]
  },
  {
   "cell_type": "code",
   "execution_count": 90,
   "id": "e39e5e36",
   "metadata": {
    "ExecuteTime": {
     "end_time": "2022-05-19T23:53:14.986520Z",
     "start_time": "2022-05-19T23:53:14.739008Z"
    },
    "hidden": true,
    "scrolled": true
   },
   "outputs": [
    {
     "data": {
      "image/png": "[encoded data removed]",
      "text/plain": [
       "<Figure size 432x288 with 1 Axes>"
      ]
     },
     "metadata": {
      "needs_background": "light"
     },
     "output_type": "display_data"
    }
   ],
   "source": [
    "plt.hist(x, bins = 10);\n",
    "plt.xlabel('Eixo x');\n",
    "plt.ylabel('Frequência');\n",
    "plt.grid(True);"
   ]
  },
  {
   "cell_type": "markdown",
   "id": "5bcc64f5",
   "metadata": {},
   "source": [
    "# 3.0. MEDIDAS DE TENDÊNCIA CENTRAL"
   ]
  },
  {
   "cell_type": "code",
   "execution_count": null,
   "id": "0590636b",
   "metadata": {},
   "outputs": [],
   "source": []
  }
 ],
 "metadata": {
  "kernelspec": {
   "display_name": "Python 3 (ipykernel)",
   "language": "python",
   "name": "python3"
  },
  "language_info": {
   "codemirror_mode": {
    "name": "ipython",
    "version": 3
   },
   "file_extension": ".py",
   "mimetype": "text/x-python",
   "name": "python",
   "nbconvert_exporter": "python",
   "pygments_lexer": "ipython3",
   "version": "3.9.12"
  }
 },
 "nbformat": 4,
 "nbformat_minor": 5
}
